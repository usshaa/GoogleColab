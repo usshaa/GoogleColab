{
  "nbformat": 4,
  "nbformat_minor": 0,
  "metadata": {
    "colab": {
      "provenance": [],
      "authorship_tag": "ABX9TyOM0CF5Uu/ut2RtXBaZRu/X",
      "include_colab_link": true
    },
    "kernelspec": {
      "name": "python3",
      "display_name": "Python 3"
    },
    "language_info": {
      "name": "python"
    }
  },
  "cells": [
    {
      "cell_type": "markdown",
      "metadata": {
        "id": "view-in-github",
        "colab_type": "text"
      },
      "source": [
        "<a href=\"https://colab.research.google.com/github/usshaa/GoogleColab/blob/main/StringsPython.ipynb\" target=\"_parent\"><img src=\"https://colab.research.google.com/assets/colab-badge.svg\" alt=\"Open In Colab\"/></a>"
      ]
    },
    {
      "cell_type": "code",
      "execution_count": 4,
      "metadata": {
        "colab": {
          "base_uri": "https://localhost:8080/",
          "height": 35
        },
        "id": "TuMjYg6bp1VP",
        "outputId": "0dc69f63-fe4b-4d99-bfb7-ad80aa13c547"
      },
      "outputs": [
        {
          "output_type": "execute_result",
          "data": {
            "text/plain": [
              "'Usha'"
            ],
            "application/vnd.google.colaboratory.intrinsic+json": {
              "type": "string"
            }
          },
          "metadata": {},
          "execution_count": 4
        }
      ],
      "source": [
        "# Converts the first character to upper case\n",
        "\n",
        "\"usha\".capitalize()"
      ]
    },
    {
      "cell_type": "code",
      "source": [
        "# Converts string into lower case\n",
        "\n",
        "\"Usha\".casefold()"
      ],
      "metadata": {
        "colab": {
          "base_uri": "https://localhost:8080/",
          "height": 35
        },
        "id": "wNeREFW-qgY6",
        "outputId": "ca2fafa7-a777-422f-a490-8bf99e92c82d"
      },
      "execution_count": 9,
      "outputs": [
        {
          "output_type": "execute_result",
          "data": {
            "text/plain": [
              "'usha'"
            ],
            "application/vnd.google.colaboratory.intrinsic+json": {
              "type": "string"
            }
          },
          "metadata": {},
          "execution_count": 9
        }
      ]
    },
    {
      "cell_type": "code",
      "source": [
        "# Returns a centered string\n",
        "\n",
        "s=\"python\"\n",
        "s.center(12,'*')"
      ],
      "metadata": {
        "colab": {
          "base_uri": "https://localhost:8080/",
          "height": 35
        },
        "id": "cCFpbJWVqxCk",
        "outputId": "c44fa140-3ce2-45a7-dfc8-9003a0d96bd9"
      },
      "execution_count": 22,
      "outputs": [
        {
          "output_type": "execute_result",
          "data": {
            "text/plain": [
              "'***python***'"
            ],
            "application/vnd.google.colaboratory.intrinsic+json": {
              "type": "string"
            }
          },
          "metadata": {},
          "execution_count": 22
        }
      ]
    },
    {
      "cell_type": "code",
      "source": [
        "# Returns the number of times a specified value occurs in a string\n",
        "\n",
        "s=\"I like Chocolates\"\n",
        "s.count('o')"
      ],
      "metadata": {
        "colab": {
          "base_uri": "https://localhost:8080/"
        },
        "id": "9PiElTMnsCX4",
        "outputId": "0d118a9e-72c4-4a04-f7c4-5234a1897701"
      },
      "execution_count": 26,
      "outputs": [
        {
          "output_type": "execute_result",
          "data": {
            "text/plain": [
              "2"
            ]
          },
          "metadata": {},
          "execution_count": 26
        }
      ]
    },
    {
      "cell_type": "code",
      "source": [
        "# Returns an encoded version of the string\n",
        "\n",
        "s.encode()\n",
        "\n",
        "txt = \"My name is Ståle\"\n",
        "\n",
        "print(txt.encode(encoding=\"ascii\",errors=\"backslashreplace\"))\n",
        "print(txt.encode(encoding=\"ascii\",errors=\"ignore\"))\n",
        "print(txt.encode(encoding=\"ascii\",errors=\"namereplace\"))\n",
        "print(txt.encode(encoding=\"ascii\",errors=\"replace\"))\n",
        "print(txt.encode(encoding=\"ascii\",errors=\"xmlcharrefreplace\"))"
      ],
      "metadata": {
        "colab": {
          "base_uri": "https://localhost:8080/"
        },
        "id": "RYxBSGFWs6CJ",
        "outputId": "fc01c524-3dcb-4e39-8c71-28c0e53ac7fc"
      },
      "execution_count": 29,
      "outputs": [
        {
          "output_type": "stream",
          "name": "stdout",
          "text": [
            "b'My name is St\\\\xe5le'\n",
            "b'My name is Stle'\n",
            "b'My name is St\\\\N{LATIN SMALL LETTER A WITH RING ABOVE}le'\n",
            "b'My name is St?le'\n",
            "b'My name is St&#229;le'\n"
          ]
        }
      ]
    },
    {
      "cell_type": "code",
      "source": [
        "# Returns true if the string ends with the specified value\n",
        "\n",
        "s.endswith('ates')"
      ],
      "metadata": {
        "colab": {
          "base_uri": "https://localhost:8080/"
        },
        "id": "U2xLI4gAuD-w",
        "outputId": "1e1526fe-bac2-4da8-e76c-051b2bbe426f"
      },
      "execution_count": 31,
      "outputs": [
        {
          "output_type": "execute_result",
          "data": {
            "text/plain": [
              "True"
            ]
          },
          "metadata": {},
          "execution_count": 31
        }
      ]
    },
    {
      "cell_type": "code",
      "source": [
        "# Sets the tab size of the string\n",
        "\n",
        "s=\"I\\tlike\\tChocolates\"\n",
        "\n",
        "s.expandtabs(2)"
      ],
      "metadata": {
        "colab": {
          "base_uri": "https://localhost:8080/",
          "height": 35
        },
        "id": "SOqSOwlVueRd",
        "outputId": "8173a418-f8cc-449d-b391-c6a5d2ad697e"
      },
      "execution_count": 46,
      "outputs": [
        {
          "output_type": "execute_result",
          "data": {
            "text/plain": [
              "'I like  Chocolates'"
            ],
            "application/vnd.google.colaboratory.intrinsic+json": {
              "type": "string"
            }
          },
          "metadata": {},
          "execution_count": 46
        }
      ]
    },
    {
      "cell_type": "code",
      "source": [
        "# Searches the string for a specified value and returns the position of where it was found\n",
        "\n",
        "s=\"I like Chocolates\"\n",
        "\n",
        "s.find('C')"
      ],
      "metadata": {
        "colab": {
          "base_uri": "https://localhost:8080/"
        },
        "id": "mqNOJXW_vgt2",
        "outputId": "1421c1b9-5604-4609-acea-d03c89f858c3"
      },
      "execution_count": 49,
      "outputs": [
        {
          "output_type": "execute_result",
          "data": {
            "text/plain": [
              "7"
            ]
          },
          "metadata": {},
          "execution_count": 49
        }
      ]
    },
    {
      "cell_type": "code",
      "source": [
        "# Formats specified values in a string\n",
        "\n",
        "txt1 = \"My name is {fname}, I'm {age}\".format(fname = \"John\", age = 36)\n",
        "txt2 = \"My name is {0}, I'm {1}\".format(\"John\",36)\n",
        "txt3 = \"My name is {}, I'm {}\".format(\"John\",36)\n",
        "print(txt1)\n",
        "print(txt2)\n",
        "print(txt3)"
      ],
      "metadata": {
        "colab": {
          "base_uri": "https://localhost:8080/"
        },
        "id": "KXHQEs3Uv4tB",
        "outputId": "6e2eaf9b-2e61-49d9-dc91-dfe8cb45dec0"
      },
      "execution_count": 54,
      "outputs": [
        {
          "output_type": "stream",
          "name": "stdout",
          "text": [
            "My name is John, I'm 36\n",
            "My name is John, I'm 36\n",
            "My name is John, I'm 36\n"
          ]
        }
      ]
    },
    {
      "cell_type": "code",
      "source": [
        "# Searches the string for a specified value and returns the position of where it was found\n",
        "\n",
        "s=\"I like Chocolates\"\n",
        "\n",
        "s.index(\"like\")"
      ],
      "metadata": {
        "colab": {
          "base_uri": "https://localhost:8080/"
        },
        "id": "hCooyq_qwzqW",
        "outputId": "fd8a2a26-31eb-4c25-a3f4-62616b7d2aeb"
      },
      "execution_count": 65,
      "outputs": [
        {
          "output_type": "execute_result",
          "data": {
            "text/plain": [
              "2"
            ]
          },
          "metadata": {},
          "execution_count": 65
        }
      ]
    },
    {
      "cell_type": "code",
      "source": [
        "# Returns True if all characters in the string are alphanumeric\n",
        "\n",
        "s.isalnum()\n",
        "\n",
        "s=\"usha123\"\n",
        "\n",
        "s.isalnum()"
      ],
      "metadata": {
        "colab": {
          "base_uri": "https://localhost:8080/"
        },
        "id": "QGDYEuva1HQV",
        "outputId": "39647769-bf8a-4b9d-f1b9-39cc07f95fff"
      },
      "execution_count": 68,
      "outputs": [
        {
          "output_type": "execute_result",
          "data": {
            "text/plain": [
              "True"
            ]
          },
          "metadata": {},
          "execution_count": 68
        }
      ]
    },
    {
      "cell_type": "code",
      "source": [
        "# Returns True if all characters in the string are in the alphabet\n",
        "\n",
        "s.isalpha()\n",
        "\n",
        "s=\"usha\"\n",
        "\n",
        "s.isalpha()"
      ],
      "metadata": {
        "colab": {
          "base_uri": "https://localhost:8080/"
        },
        "id": "KUsE580l2Y2j",
        "outputId": "9574f1c9-a0df-4d77-e87a-7af6fb13719e"
      },
      "execution_count": 71,
      "outputs": [
        {
          "output_type": "execute_result",
          "data": {
            "text/plain": [
              "True"
            ]
          },
          "metadata": {},
          "execution_count": 71
        }
      ]
    },
    {
      "cell_type": "code",
      "source": [
        "# Returns True if all characters in the string are ascii characters\n",
        "\n",
        "s.isascii()"
      ],
      "metadata": {
        "colab": {
          "base_uri": "https://localhost:8080/"
        },
        "id": "0BD67Qf32opk",
        "outputId": "89b125c9-d32f-4577-df44-b6a1cafe5fd7"
      },
      "execution_count": 73,
      "outputs": [
        {
          "output_type": "execute_result",
          "data": {
            "text/plain": [
              "True"
            ]
          },
          "metadata": {},
          "execution_count": 73
        }
      ]
    },
    {
      "cell_type": "code",
      "source": [
        "# Returns True if all characters in the string are decimals\n",
        "\n",
        "a = \"\\u0030\" #unicode for 0\n",
        "b = \"\\u0047\" #unicode for G\n",
        "\n",
        "print(a.isdecimal())\n",
        "print(b.isdecimal())"
      ],
      "metadata": {
        "colab": {
          "base_uri": "https://localhost:8080/"
        },
        "id": "_Vh746Ns22F3",
        "outputId": "603e2f15-886f-417a-d387-49ea9c71a739"
      },
      "execution_count": 77,
      "outputs": [
        {
          "output_type": "stream",
          "name": "stdout",
          "text": [
            "True\n",
            "False\n"
          ]
        }
      ]
    },
    {
      "cell_type": "code",
      "source": [
        "# Returns True if all characters in the string are digits\n",
        "\n",
        "a = \"usha\" #unicode for 0\n",
        "b = \"321\" #unicode for G\n",
        "\n",
        "print(a.isdigit())\n",
        "print(b.isdigit())\n"
      ],
      "metadata": {
        "colab": {
          "base_uri": "https://localhost:8080/"
        },
        "id": "XCA4JP_T3nHU",
        "outputId": "6113f0d3-126e-4983-81b4-43d43bd916ea"
      },
      "execution_count": 83,
      "outputs": [
        {
          "output_type": "stream",
          "name": "stdout",
          "text": [
            "False\n",
            "True\n"
          ]
        }
      ]
    },
    {
      "cell_type": "code",
      "source": [
        "# Returns True if the string is an identifier\n",
        "\n",
        "a = \"MyFolder\"\n",
        "b = \"Demo002\"\n",
        "c = \"2bring\"\n",
        "d = \"my demo\"\n",
        "\n",
        "print(a.isidentifier())\n",
        "print(b.isidentifier())\n",
        "print(c.isidentifier())\n",
        "print(d.isidentifier())\n"
      ],
      "metadata": {
        "colab": {
          "base_uri": "https://localhost:8080/"
        },
        "id": "iDCKL9Ic4MoG",
        "outputId": "185e64b4-6c19-4a53-906b-b25059584ab5"
      },
      "execution_count": 84,
      "outputs": [
        {
          "output_type": "stream",
          "name": "stdout",
          "text": [
            "True\n",
            "True\n",
            "False\n",
            "False\n"
          ]
        }
      ]
    },
    {
      "cell_type": "code",
      "source": [
        "# Returns True if all characters in the string are lower case\n",
        "\n",
        "a.islower()"
      ],
      "metadata": {
        "colab": {
          "base_uri": "https://localhost:8080/"
        },
        "id": "_y6TmUly48y-",
        "outputId": "d4b7c2dc-6bc6-40b9-9077-4a8ab828bfbc"
      },
      "execution_count": 86,
      "outputs": [
        {
          "output_type": "execute_result",
          "data": {
            "text/plain": [
              "False"
            ]
          },
          "metadata": {},
          "execution_count": 86
        }
      ]
    },
    {
      "cell_type": "code",
      "source": [
        "# Returns True if all characters in the string are numeric\n",
        "\n",
        "a.isnumeric()"
      ],
      "metadata": {
        "colab": {
          "base_uri": "https://localhost:8080/"
        },
        "id": "6RQyLGGr5Mup",
        "outputId": "dbb5f767-ee90-401d-b459-e1935b819fe6"
      },
      "execution_count": 88,
      "outputs": [
        {
          "output_type": "execute_result",
          "data": {
            "text/plain": [
              "False"
            ]
          },
          "metadata": {},
          "execution_count": 88
        }
      ]
    },
    {
      "cell_type": "code",
      "source": [
        "# Returns True if all characters in the string are printable\n",
        "\n",
        "txt = \"Hello!\\nAre you #1?\"\n",
        "\n",
        "x = txt.isprintable()\n",
        "\n",
        "print(x)"
      ],
      "metadata": {
        "colab": {
          "base_uri": "https://localhost:8080/"
        },
        "id": "yj93WpxZ5XhZ",
        "outputId": "b42197cf-d136-4ca4-b993-bc81db6dee98"
      },
      "execution_count": 91,
      "outputs": [
        {
          "output_type": "stream",
          "name": "stdout",
          "text": [
            "False\n"
          ]
        }
      ]
    },
    {
      "cell_type": "code",
      "source": [
        "# Returns True if all characters in the string are whitespaces\n",
        "\n",
        "txt.isspace()\n",
        "\n",
        "txt = \"   \"\n",
        "\n",
        "txt.isspace()"
      ],
      "metadata": {
        "colab": {
          "base_uri": "https://localhost:8080/"
        },
        "id": "aP1HpfqO5oRS",
        "outputId": "2085d913-79c8-468f-a57b-441b1e3c6f9b"
      },
      "execution_count": 96,
      "outputs": [
        {
          "output_type": "execute_result",
          "data": {
            "text/plain": [
              "True"
            ]
          },
          "metadata": {},
          "execution_count": 96
        }
      ]
    },
    {
      "cell_type": "code",
      "source": [
        "# Returns True if the string follows the rules of a title\n",
        "\n",
        "a = \"HELLO, AND WELCOME TO MY WORLD\"\n",
        "b = \"Hello\"\n",
        "c = \"22 Names\"\n",
        "d = \"This Is %'!?\"\n",
        "\n",
        "print(a.istitle())\n",
        "print(b.istitle())\n",
        "print(c.istitle())\n",
        "print(d.istitle())"
      ],
      "metadata": {
        "colab": {
          "base_uri": "https://localhost:8080/"
        },
        "id": "touEqcsA54FT",
        "outputId": "97102bcc-a2c0-41c7-d9ce-67b8462f8148"
      },
      "execution_count": 97,
      "outputs": [
        {
          "output_type": "stream",
          "name": "stdout",
          "text": [
            "False\n",
            "True\n",
            "True\n",
            "True\n"
          ]
        }
      ]
    },
    {
      "cell_type": "code",
      "source": [
        "# Returns True if all characters in the string are upper case\n",
        "\n",
        "a.isupper()"
      ],
      "metadata": {
        "colab": {
          "base_uri": "https://localhost:8080/"
        },
        "id": "-vJE8yMJ6Tuh",
        "outputId": "a8b56ccb-31da-40a3-8a48-9a53f95ad360"
      },
      "execution_count": 99,
      "outputs": [
        {
          "output_type": "execute_result",
          "data": {
            "text/plain": [
              "True"
            ]
          },
          "metadata": {},
          "execution_count": 99
        }
      ]
    },
    {
      "cell_type": "code",
      "source": [
        "# Converts the elements of an iterable into a string\n",
        "\n",
        "','.join(b)"
      ],
      "metadata": {
        "colab": {
          "base_uri": "https://localhost:8080/",
          "height": 35
        },
        "id": "USq9J1Oo6kS_",
        "outputId": "9eb5ce7b-b7d8-46f8-8853-a5b7bfaecb31"
      },
      "execution_count": 101,
      "outputs": [
        {
          "output_type": "execute_result",
          "data": {
            "text/plain": [
              "'H,e,l,l,o'"
            ],
            "application/vnd.google.colaboratory.intrinsic+json": {
              "type": "string"
            }
          },
          "metadata": {},
          "execution_count": 101
        }
      ]
    },
    {
      "cell_type": "code",
      "source": [
        "# Returns a left justified version of the string\n",
        "\n",
        "txt = \"banana\"\n",
        "\n",
        "x = txt.ljust(20, \"O\")\n",
        "\n",
        "print(x)"
      ],
      "metadata": {
        "colab": {
          "base_uri": "https://localhost:8080/"
        },
        "id": "inozARPJ6xj2",
        "outputId": "12ad5bb2-8a12-4e59-af67-e907eae26325"
      },
      "execution_count": 103,
      "outputs": [
        {
          "output_type": "stream",
          "name": "stdout",
          "text": [
            "bananaOOOOOOOOOOOOOO\n"
          ]
        }
      ]
    },
    {
      "cell_type": "code",
      "source": [
        "# Converts a string into lower case\n",
        "\n",
        "a.lower()"
      ],
      "metadata": {
        "colab": {
          "base_uri": "https://localhost:8080/",
          "height": 35
        },
        "id": "fTr_AH8M7FHN",
        "outputId": "d5dabc4f-dcab-4325-90f5-4ecde5a6f7ae"
      },
      "execution_count": 106,
      "outputs": [
        {
          "output_type": "execute_result",
          "data": {
            "text/plain": [
              "'hello, and welcome to my world'"
            ],
            "application/vnd.google.colaboratory.intrinsic+json": {
              "type": "string"
            }
          },
          "metadata": {},
          "execution_count": 106
        }
      ]
    },
    {
      "cell_type": "code",
      "source": [
        "# Returns a left trim version of the string\n",
        "\n",
        "txt = \"    banana\"\n",
        "\n",
        "txt.lstrip()"
      ],
      "metadata": {
        "colab": {
          "base_uri": "https://localhost:8080/",
          "height": 35
        },
        "id": "HUFQ_Ygj7Rm8",
        "outputId": "6694072d-107d-49d8-858b-13e012e28201"
      },
      "execution_count": 108,
      "outputs": [
        {
          "output_type": "execute_result",
          "data": {
            "text/plain": [
              "'banana'"
            ],
            "application/vnd.google.colaboratory.intrinsic+json": {
              "type": "string"
            }
          },
          "metadata": {},
          "execution_count": 108
        }
      ]
    },
    {
      "cell_type": "code",
      "source": [
        "# Returns a translation table to be used in translations\n",
        "\n",
        "txt = \"Hello Sam!\"\n",
        "mytable = txt.maketrans(\"S\", \"P\")\n",
        "print(txt.translate(mytable))\n",
        "\n",
        "txt = \"Hi Sam!\"\n",
        "x = \"mSa\"\n",
        "y = \"eJo\"\n",
        "mytable = txt.maketrans(x, y)\n",
        "print(txt.translate(mytable))\n",
        "\n",
        "txt = \"Good night Sam!\"\n",
        "x = \"mSa\"\n",
        "y = \"eJo\"\n",
        "z = \"odnght\"\n",
        "mytable = txt.maketrans(x, y, z)\n",
        "print(txt.translate(mytable))\n",
        "\n",
        "\n",
        "txt = \"Good night Sam!\"\n",
        "x = \"mSa\"\n",
        "y = \"eJo\"\n",
        "z = \"odnght\"\n",
        "print(txt.maketrans(x, y, z))"
      ],
      "metadata": {
        "colab": {
          "base_uri": "https://localhost:8080/"
        },
        "id": "DMC2njY-7dHB",
        "outputId": "73fde3dd-49eb-46d8-872d-6d46d0c1135f"
      },
      "execution_count": 113,
      "outputs": [
        {
          "output_type": "stream",
          "name": "stdout",
          "text": [
            "Hello Pam!\n",
            "Hi Joe!\n",
            "G i Joe!\n",
            "{109: 101, 83: 74, 97: 111, 111: None, 100: None, 110: None, 103: None, 104: None, 116: None}\n"
          ]
        }
      ]
    },
    {
      "cell_type": "code",
      "source": [
        "# Returns a tuple where the string is parted into three parts\n",
        "\n",
        "txt = \"I could eat bananas all day\"\n",
        "\n",
        "x = txt.partition(\"bananas\")\n",
        "\n",
        "print(x)"
      ],
      "metadata": {
        "colab": {
          "base_uri": "https://localhost:8080/"
        },
        "id": "BJYpf5sC8Tul",
        "outputId": "ae134adb-65f2-40ea-b450-3e360e50daa0"
      },
      "execution_count": 116,
      "outputs": [
        {
          "output_type": "stream",
          "name": "stdout",
          "text": [
            "('I could eat ', 'bananas', ' all day')\n"
          ]
        }
      ]
    },
    {
      "cell_type": "code",
      "source": [
        "# Returns a string where a specified value is replaced with a specified value\n",
        "\n",
        "txt = \"I could eat bananas all day\"\n",
        "\n",
        "txt.replace('bananas','apples')"
      ],
      "metadata": {
        "colab": {
          "base_uri": "https://localhost:8080/",
          "height": 35
        },
        "id": "Lz6NgXgf84Qy",
        "outputId": "50324066-8fb4-4ce1-c4d3-470fb2a82497"
      },
      "execution_count": 119,
      "outputs": [
        {
          "output_type": "execute_result",
          "data": {
            "text/plain": [
              "'I could eat apples all day'"
            ],
            "application/vnd.google.colaboratory.intrinsic+json": {
              "type": "string"
            }
          },
          "metadata": {},
          "execution_count": 119
        }
      ]
    },
    {
      "cell_type": "code",
      "source": [
        "# Searches the string for a specified value and returns the last position of where it was found\n",
        "\n",
        "txt.rfind('a')"
      ],
      "metadata": {
        "colab": {
          "base_uri": "https://localhost:8080/"
        },
        "id": "QX2w1oug9Ffs",
        "outputId": "d1040f65-fa51-47a9-fe15-a949a75590cb"
      },
      "execution_count": 121,
      "outputs": [
        {
          "output_type": "execute_result",
          "data": {
            "text/plain": [
              "25"
            ]
          },
          "metadata": {},
          "execution_count": 121
        }
      ]
    },
    {
      "cell_type": "code",
      "source": [
        "# Searches the string for a specified value and returns the last position of where it was found\n",
        "\n",
        "txt.rindex('all')"
      ],
      "metadata": {
        "colab": {
          "base_uri": "https://localhost:8080/"
        },
        "id": "zZOZoMgL9TXP",
        "outputId": "923a9cdb-4a30-4ef3-e949-1bcfecdb531c"
      },
      "execution_count": 122,
      "outputs": [
        {
          "output_type": "execute_result",
          "data": {
            "text/plain": [
              "20"
            ]
          },
          "metadata": {},
          "execution_count": 122
        }
      ]
    },
    {
      "cell_type": "code",
      "source": [
        "# Returns a right justified version of the string\n",
        "\n",
        "txt = \"banana\"\n",
        "\n",
        "x = txt.rjust(20, \"O\")\n",
        "\n",
        "print(x)"
      ],
      "metadata": {
        "colab": {
          "base_uri": "https://localhost:8080/"
        },
        "id": "IIadJhwb9pgT",
        "outputId": "92b6d647-84b4-4bf2-b421-95bcb42e7f82"
      },
      "execution_count": 125,
      "outputs": [
        {
          "output_type": "stream",
          "name": "stdout",
          "text": [
            "OOOOOOOOOOOOOObanana\n"
          ]
        }
      ]
    },
    {
      "cell_type": "code",
      "source": [
        "# Returns a tuple where the string is parted into three parts\n",
        "\n",
        "txt.rpartition('an')"
      ],
      "metadata": {
        "colab": {
          "base_uri": "https://localhost:8080/"
        },
        "id": "2WwbXSRX-hQu",
        "outputId": "277a4933-5c06-4335-d70a-ae519144b831"
      },
      "execution_count": 129,
      "outputs": [
        {
          "output_type": "execute_result",
          "data": {
            "text/plain": [
              "('ban', 'an', 'a')"
            ]
          },
          "metadata": {},
          "execution_count": 129
        }
      ]
    },
    {
      "cell_type": "code",
      "source": [
        "# Splits the string at the specified separator, and returns a list\n",
        "\n",
        "txt = \"apple, banana, cherry\"\n",
        "\n",
        "x = txt.rsplit(\", \")\n",
        "\n",
        "print(x)\n",
        "\n",
        "txt = \"apple, banana, cherry\"\n",
        "\n",
        "# setting the maxsplit parameter to 1, will return a list with 2 elements!\n",
        "x = txt.rsplit(\", \", 1)\n",
        "\n",
        "print(x)"
      ],
      "metadata": {
        "colab": {
          "base_uri": "https://localhost:8080/"
        },
        "id": "CVVF5uLZ-02J",
        "outputId": "e9cff26b-6efd-43e8-c08c-b362ddce8cd5"
      },
      "execution_count": 136,
      "outputs": [
        {
          "output_type": "stream",
          "name": "stdout",
          "text": [
            "['apple', 'banana', 'cherry']\n",
            "['apple, banana', 'cherry']\n"
          ]
        }
      ]
    },
    {
      "cell_type": "code",
      "source": [
        "# Returns a right trim version of the string\n",
        "\n",
        "txt = \"banana   \"\n",
        "txt.rstrip()"
      ],
      "metadata": {
        "colab": {
          "base_uri": "https://localhost:8080/",
          "height": 35
        },
        "id": "etSn8zlN_Y6c",
        "outputId": "7229981b-e87a-45c7-a5fd-d5102a114c88"
      },
      "execution_count": 138,
      "outputs": [
        {
          "output_type": "execute_result",
          "data": {
            "text/plain": [
              "'banana'"
            ],
            "application/vnd.google.colaboratory.intrinsic+json": {
              "type": "string"
            }
          },
          "metadata": {},
          "execution_count": 138
        }
      ]
    },
    {
      "cell_type": "code",
      "source": [
        "# Splits the string at the specified separator, and returns a list\n",
        "\n",
        "txt = \"apple*banana*cherry\"\n",
        "\n",
        "txt.split('*')"
      ],
      "metadata": {
        "colab": {
          "base_uri": "https://localhost:8080/"
        },
        "id": "PfoWFPxs_vAl",
        "outputId": "d5a1f7f4-799c-4a8d-d58d-1dd974865241"
      },
      "execution_count": 145,
      "outputs": [
        {
          "output_type": "execute_result",
          "data": {
            "text/plain": [
              "['apple', 'banana', 'cherry']"
            ]
          },
          "metadata": {},
          "execution_count": 145
        }
      ]
    },
    {
      "cell_type": "code",
      "source": [
        "# Splits the string at line breaks and returns a list\n",
        "\n",
        "txt = \"apple\\nbanana\\ncherry\"\n",
        "\n",
        "txt.splitlines()"
      ],
      "metadata": {
        "colab": {
          "base_uri": "https://localhost:8080/"
        },
        "id": "dQiZ6ajhAg9o",
        "outputId": "0736f661-2086-40d7-db59-81a3f1c61fc0"
      },
      "execution_count": 148,
      "outputs": [
        {
          "output_type": "execute_result",
          "data": {
            "text/plain": [
              "['apple', 'banana', 'cherry']"
            ]
          },
          "metadata": {},
          "execution_count": 148
        }
      ]
    },
    {
      "cell_type": "code",
      "source": [
        "# Returns true if the string starts with the specified value\n",
        "\n",
        "txt.startswith('app')"
      ],
      "metadata": {
        "colab": {
          "base_uri": "https://localhost:8080/"
        },
        "id": "-BwDtFhBA1kv",
        "outputId": "c895956d-2a6c-4375-c8a0-4ea465ab2dbb"
      },
      "execution_count": 150,
      "outputs": [
        {
          "output_type": "execute_result",
          "data": {
            "text/plain": [
              "True"
            ]
          },
          "metadata": {},
          "execution_count": 150
        }
      ]
    },
    {
      "cell_type": "code",
      "source": [
        "# Returns a trimmed version of the string\n",
        "\n",
        "txt = \" usha  \"\n",
        "\n",
        "txt.strip()"
      ],
      "metadata": {
        "colab": {
          "base_uri": "https://localhost:8080/",
          "height": 35
        },
        "id": "L0ZRPC6yA9po",
        "outputId": "ce7e8290-e8c7-4283-9f1d-58940165e28f"
      },
      "execution_count": 152,
      "outputs": [
        {
          "output_type": "execute_result",
          "data": {
            "text/plain": [
              "'usha'"
            ],
            "application/vnd.google.colaboratory.intrinsic+json": {
              "type": "string"
            }
          },
          "metadata": {},
          "execution_count": 152
        }
      ]
    },
    {
      "cell_type": "code",
      "source": [
        "# Swaps cases, lower case becomes upper case and vice versa\n",
        "\n",
        "txt = \"uSHA\"\n",
        "\n",
        "txt.swapcase()"
      ],
      "metadata": {
        "colab": {
          "base_uri": "https://localhost:8080/",
          "height": 35
        },
        "id": "IDFlRDF0BFst",
        "outputId": "396ce727-f746-446f-d7d8-e9e7022f8fb6"
      },
      "execution_count": 154,
      "outputs": [
        {
          "output_type": "execute_result",
          "data": {
            "text/plain": [
              "'Usha'"
            ],
            "application/vnd.google.colaboratory.intrinsic+json": {
              "type": "string"
            }
          },
          "metadata": {},
          "execution_count": 154
        }
      ]
    },
    {
      "cell_type": "code",
      "source": [
        "# Converts the first character of each word to upper case\n",
        "\n",
        "txt = \"Converts the first character of each word to upper case\"\n",
        "\n",
        "txt.title()"
      ],
      "metadata": {
        "colab": {
          "base_uri": "https://localhost:8080/",
          "height": 35
        },
        "id": "BmecNcc1BObU",
        "outputId": "87ac2048-9adb-4ae5-ccbe-0004b4d7597b"
      },
      "execution_count": 156,
      "outputs": [
        {
          "output_type": "execute_result",
          "data": {
            "text/plain": [
              "'Converts The First Character Of Each Word To Upper Case'"
            ],
            "application/vnd.google.colaboratory.intrinsic+json": {
              "type": "string"
            }
          },
          "metadata": {},
          "execution_count": 156
        }
      ]
    },
    {
      "cell_type": "code",
      "source": [
        "# Returns a translated string\n",
        "\n",
        "#use a dictionary with ascii codes to replace 83 (S) with 80 (P):\n",
        "mydict = {83:  80}\n",
        "txt = \"Hello Sam!\"\n",
        "print(txt.translate(mydict))"
      ],
      "metadata": {
        "colab": {
          "base_uri": "https://localhost:8080/"
        },
        "id": "RPchx1OkBXx8",
        "outputId": "5d86f9f8-30a3-4528-9b67-780597e3887a"
      },
      "execution_count": 157,
      "outputs": [
        {
          "output_type": "stream",
          "name": "stdout",
          "text": [
            "Hello Pam!\n"
          ]
        }
      ]
    },
    {
      "cell_type": "code",
      "source": [
        "# Converts a string into upper case\n",
        "\n",
        "txt.upper()"
      ],
      "metadata": {
        "colab": {
          "base_uri": "https://localhost:8080/",
          "height": 35
        },
        "id": "9RpidLZnBosT",
        "outputId": "419bc4ba-b956-4d65-d2a9-2c4fb7d40300"
      },
      "execution_count": 158,
      "outputs": [
        {
          "output_type": "execute_result",
          "data": {
            "text/plain": [
              "'HELLO SAM!'"
            ],
            "application/vnd.google.colaboratory.intrinsic+json": {
              "type": "string"
            }
          },
          "metadata": {},
          "execution_count": 158
        }
      ]
    },
    {
      "cell_type": "code",
      "source": [
        "# Fills the string with a specified number of 0 values at the beginning\n",
        "\n",
        "a = \"hello\"\n",
        "b = \"welcome to the jungle\"\n",
        "c = \"10.000\"\n",
        "\n",
        "print(a.zfill(10))\n",
        "print(b.zfill(10))\n",
        "print(c.zfill(10))"
      ],
      "metadata": {
        "colab": {
          "base_uri": "https://localhost:8080/"
        },
        "id": "NlIKQOAeBwrw",
        "outputId": "2a14c030-bf9c-45d4-80d9-c4fa90dbc06d"
      },
      "execution_count": 161,
      "outputs": [
        {
          "output_type": "stream",
          "name": "stdout",
          "text": [
            "00000hello\n",
            "welcome to the jungle\n",
            "000010.000\n"
          ]
        }
      ]
    }
  ]
}