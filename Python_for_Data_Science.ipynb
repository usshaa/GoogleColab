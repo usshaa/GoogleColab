{
  "nbformat": 4,
  "nbformat_minor": 0,
  "metadata": {
    "colab": {
      "provenance": [],
      "authorship_tag": "ABX9TyM3ySQGKjkAnzMnUxljh5ZU",
      "include_colab_link": true
    },
    "kernelspec": {
      "name": "python3",
      "display_name": "Python 3"
    },
    "language_info": {
      "name": "python"
    }
  },
  "cells": [
    {
      "cell_type": "markdown",
      "metadata": {
        "id": "view-in-github",
        "colab_type": "text"
      },
      "source": [
        "<a href=\"https://colab.research.google.com/github/usshaa/GoogleColab/blob/main/Python_for_Data_Science.ipynb\" target=\"_parent\"><img src=\"https://colab.research.google.com/assets/colab-badge.svg\" alt=\"Open In Colab\"/></a>"
      ]
    },
    {
      "cell_type": "markdown",
      "source": [
        "## **Topic 1: Introduction to Python**\n",
        "\n",
        "### **1.1 History of Python**\n",
        "Python was created by **Guido van Rossum** in the late 1980s and released in 1991. It was designed to be an easy-to-read and versatile programming language. The name \"Python\" comes from the British comedy series **Monty Python’s Flying Circus**.\n",
        "\n",
        "### **1.2 Features of Python**\n",
        "- **Easy to Read & Write**: Python syntax is simple and readable.\n",
        "- **Interpreted Language**: No need to compile, runs directly.\n",
        "- **Cross-Platform**: Works on Windows, Mac, Linux, etc.\n",
        "- **Object-Oriented & Functional**: Supports OOP and functional programming.\n",
        "- **Large Standard Library**: Includes built-in modules for various tasks.\n",
        "\n",
        "### **1.3 Installing & Running Python**\n",
        "- **Online**: Use Google Colab (https://colab.research.google.com) or Jupyter Notebook.\n",
        "- **Local Installation**: Download from [Python.org](https://www.python.org/).\n",
        "- **IDE Options**: VS Code, PyCharm, Jupyter Notebook.\n",
        "\n",
        "### **1.4 Running Python Code**\n",
        "- **Interactive Mode (REPL)**: Run Python directly in the terminal using `python` command.\n",
        "- **Script Mode**: Save Python code in `.py` files and execute using `python filename.py`.\n",
        "\n",
        "---"
      ],
      "metadata": {
        "id": "cLwUvsfbZfu2"
      }
    },
    {
      "cell_type": "markdown",
      "source": [
        "## **Topic 2: Python Basics**  \n",
        "\n",
        "### **2.1 Variables and Data Types**  \n",
        "A **variable** is a name assigned to a value. In Python, you don’t need to declare the data type explicitly.  "
      ],
      "metadata": {
        "id": "DUOmYg_1aHVX"
      }
    },
    {
      "cell_type": "code",
      "source": [
        "name = \"Alice\"  # String\n",
        "age = 25        # Integer\n",
        "height = 5.6    # Float\n",
        "is_student = True  # Boolean\n",
        "\n",
        "print(name, age, height, is_student)"
      ],
      "metadata": {
        "colab": {
          "base_uri": "https://localhost:8080/"
        },
        "id": "LIYCCBkGaDSU",
        "outputId": "0e881aab-8f0c-4bd2-cb3a-4948ada3232f"
      },
      "execution_count": 5,
      "outputs": [
        {
          "output_type": "stream",
          "name": "stdout",
          "text": [
            "Alice 25 5.6 True\n"
          ]
        }
      ]
    },
    {
      "cell_type": "markdown",
      "source": [
        "### **2.2 Operators in Python**  \n",
        "Operators perform operations on variables and values.  \n",
        "\n",
        "#### **Types of Operators:**\n",
        "1. **Arithmetic Operators** (`+`, `-`, `*`, `/`, `%`, `**`, `//`)\n",
        "2. **Comparison Operators** (`==`, `!=`, `>`, `<`, `>=`, `<=`)\n",
        "3. **Logical Operators** (`and`, `or`, `not`)\n",
        "4. **Assignment Operators** (`=`, `+=`, `-=`, `*=`, `/=`)\n",
        "5. **Bitwise Operators** (`&`, `|`, `^`, `~`, `<<`, `>>`)"
      ],
      "metadata": {
        "id": "6JDZFcNPaRtn"
      }
    },
    {
      "cell_type": "code",
      "source": [
        "# Arithmetic Operators\n",
        "x = 10\n",
        "y = 3\n",
        "print(\"Addition:\", x + y)\n",
        "print(\"Subtraction:\", x - y)\n",
        "print(\"Multiplication:\", x * y)\n",
        "print(\"Division:\", x / y)\n",
        "print(\"Floor Division:\", x // y)\n",
        "print(\"Modulus:\", x % y)\n",
        "print(\"Exponentiation:\", x ** y)"
      ],
      "metadata": {
        "colab": {
          "base_uri": "https://localhost:8080/"
        },
        "id": "tzt_pN6mZ0bc",
        "outputId": "e34298e9-a59a-49d7-e7d3-f3be597e1eb9"
      },
      "execution_count": 6,
      "outputs": [
        {
          "output_type": "stream",
          "name": "stdout",
          "text": [
            "Addition: 13\n",
            "Subtraction: 7\n",
            "Multiplication: 30\n",
            "Division: 3.3333333333333335\n",
            "Floor Division: 3\n",
            "Modulus: 1\n",
            "Exponentiation: 1000\n"
          ]
        }
      ]
    },
    {
      "cell_type": "code",
      "source": [
        "# Comparison Operators\n",
        "print(\"x is greater than y:\", x > y)\n",
        "print(\"x is equal to y:\", x == y)"
      ],
      "metadata": {
        "colab": {
          "base_uri": "https://localhost:8080/"
        },
        "id": "apTTxhp1agjE",
        "outputId": "4fc79481-26c1-44fd-ac2c-108d1f0360f8"
      },
      "execution_count": 7,
      "outputs": [
        {
          "output_type": "stream",
          "name": "stdout",
          "text": [
            "x is greater than y: True\n",
            "x is equal to y: False\n"
          ]
        }
      ]
    },
    {
      "cell_type": "markdown",
      "source": [
        "### **2.3 Comments in Python**  \n",
        "Comments help explain the code but are ignored by the interpreter.  \n",
        "- **Single-line Comment:** `# This is a comment`\n",
        "- **Multi-line Comment:** `\"\"\" This is a multi-line comment \"\"\"`"
      ],
      "metadata": {
        "id": "_VclHQ-laofm"
      }
    },
    {
      "cell_type": "code",
      "source": [
        "# This is a single-line comment\n",
        "\"\"\"\n",
        "This is a\n",
        "multi-line comment\n",
        "\"\"\"\n",
        "print(\"Comments are ignored by Python!\")"
      ],
      "metadata": {
        "colab": {
          "base_uri": "https://localhost:8080/"
        },
        "id": "OEH-8ABjajYq",
        "outputId": "cd8542b6-544c-4a0e-9b3c-8c8c79732b99"
      },
      "execution_count": 8,
      "outputs": [
        {
          "output_type": "stream",
          "name": "stdout",
          "text": [
            "Comments are ignored by Python!\n"
          ]
        }
      ]
    },
    {
      "cell_type": "markdown",
      "source": [
        "### **2.4 Type Conversion & Type Casting**  \n",
        "Python allows automatic **type conversion**, but you can also manually convert types.  "
      ],
      "metadata": {
        "id": "s9hkHGo7avv5"
      }
    },
    {
      "cell_type": "code",
      "source": [
        "# Automatic Type Conversion\n",
        "x = 5\n",
        "y = 2.5\n",
        "result = x + y  # Python converts int to float automatically\n",
        "print(result, type(result))"
      ],
      "metadata": {
        "colab": {
          "base_uri": "https://localhost:8080/"
        },
        "id": "hqxd54z3auv6",
        "outputId": "c8e9c42f-3456-4a88-b01d-65c2204a491a"
      },
      "execution_count": 9,
      "outputs": [
        {
          "output_type": "stream",
          "name": "stdout",
          "text": [
            "7.5 <class 'float'>\n"
          ]
        }
      ]
    },
    {
      "cell_type": "code",
      "source": [
        "# Manual Type Casting\n",
        "a = \"10\"\n",
        "b = int(a)  # Convert string to integer\n",
        "print(b, type(b))"
      ],
      "metadata": {
        "colab": {
          "base_uri": "https://localhost:8080/"
        },
        "id": "D0BOMAhca0pI",
        "outputId": "f029c326-6046-451f-fae2-7d011c87565e"
      },
      "execution_count": 10,
      "outputs": [
        {
          "output_type": "stream",
          "name": "stdout",
          "text": [
            "10 <class 'int'>\n"
          ]
        }
      ]
    },
    {
      "cell_type": "markdown",
      "source": [
        "### **2.5 Taking Input and Output**  \n",
        "Python allows dynamic user input using `input()` and formatted output using `print()`.  "
      ],
      "metadata": {
        "id": "p4QyuFVza4Ya"
      }
    },
    {
      "cell_type": "code",
      "source": [
        "name = input(\"Enter your name: \")\n",
        "age = int(input(\"Enter your age: \"))  # Convert input to integer\n",
        "print(f\"Hello {name}, you are {age} years old.\")"
      ],
      "metadata": {
        "colab": {
          "base_uri": "https://localhost:8080/"
        },
        "id": "NEccdnpua3X0",
        "outputId": "3db9a37d-af71-4c5b-8d6b-efa4eadc41e4"
      },
      "execution_count": 11,
      "outputs": [
        {
          "output_type": "stream",
          "name": "stdout",
          "text": [
            "Enter your name: Usha\n",
            "Enter your age: 32\n",
            "Hello Usha, you are 32 years old.\n"
          ]
        }
      ]
    },
    {
      "cell_type": "markdown",
      "source": [
        "## **Topic 3: Control Flow Statements**  \n",
        "\n",
        "Control flow statements help in decision-making and looping in Python.\n",
        "\n",
        "---\n",
        "\n",
        "### **3.1 Conditional Statements (if, elif, else)**\n",
        "Conditional statements allow the program to execute specific blocks of code based on conditions."
      ],
      "metadata": {
        "id": "X-BCehMVbxiG"
      }
    },
    {
      "cell_type": "markdown",
      "source": [
        "#### **Syntax:**\n",
        "```python\n",
        "if condition:\n",
        "    # Code to execute if the condition is True\n",
        "elif another_condition:\n",
        "    # Code to execute if the second condition is True\n",
        "else:\n",
        "    # Code to execute if all conditions are False\n",
        "```"
      ],
      "metadata": {
        "id": "RYiHd2S7b3GU"
      }
    },
    {
      "cell_type": "code",
      "source": [
        "age = int(input(\"Enter your age: \"))\n",
        "\n",
        "if age < 18:\n",
        "    print(\"You are a minor.\")\n",
        "elif age == 18:\n",
        "    print(\"You are just an adult.\")\n",
        "else:\n",
        "    print(\"You are an adult.\")"
      ],
      "metadata": {
        "colab": {
          "base_uri": "https://localhost:8080/"
        },
        "id": "d5O7O5YnbuFL",
        "outputId": "769b76dc-5f90-4ccd-ab64-4bee32ee20b6"
      },
      "execution_count": 12,
      "outputs": [
        {
          "output_type": "stream",
          "name": "stdout",
          "text": [
            "Enter your age: 32\n",
            "You are an adult.\n"
          ]
        }
      ]
    },
    {
      "cell_type": "markdown",
      "source": [
        "### **3.2 Looping Statements**\n",
        "Loops help in executing a block of code multiple times.\n",
        "\n",
        "#### **Types of Loops:**\n",
        "1. **For Loop** – Iterates over a sequence (list, tuple, string, etc.).\n",
        "2. **While Loop** – Runs as long as the condition is `True`.\n",
        "\n",
        "---\n",
        "\n",
        "### **3.3 For Loop**\n",
        "The `for` loop iterates over elements in a sequence."
      ],
      "metadata": {
        "id": "D8EFHYslb_8w"
      }
    },
    {
      "cell_type": "code",
      "source": [
        "fruits = [\"Apple\", \"Banana\", \"Cherry\"]\n",
        "for fruit in fruits:\n",
        "    print(fruit)"
      ],
      "metadata": {
        "colab": {
          "base_uri": "https://localhost:8080/"
        },
        "id": "y7GPXFyPbiq9",
        "outputId": "bd299a76-5109-4860-9ea0-edb1e304d9e2"
      },
      "execution_count": 13,
      "outputs": [
        {
          "output_type": "stream",
          "name": "stdout",
          "text": [
            "Apple\n",
            "Banana\n",
            "Cherry\n"
          ]
        }
      ]
    },
    {
      "cell_type": "code",
      "source": [
        "#### **Using `range()`:**\n",
        "\n",
        "for i in range(1, 6):\n",
        "    print(i)  # Prints numbers from 1 to 5"
      ],
      "metadata": {
        "colab": {
          "base_uri": "https://localhost:8080/"
        },
        "id": "GXgxpw5-cIJ8",
        "outputId": "c956055a-0842-41db-c645-4705a3882958"
      },
      "execution_count": 14,
      "outputs": [
        {
          "output_type": "stream",
          "name": "stdout",
          "text": [
            "1\n",
            "2\n",
            "3\n",
            "4\n",
            "5\n"
          ]
        }
      ]
    },
    {
      "cell_type": "markdown",
      "source": [
        "### **3.4 While Loop**\n",
        "The `while` loop runs as long as a condition is `True`."
      ],
      "metadata": {
        "id": "6hklyI2jcPzS"
      }
    },
    {
      "cell_type": "code",
      "source": [
        "count = 1\n",
        "while count <= 5:\n",
        "    print(count)\n",
        "    count += 1  # Increment count to avoid infinite loop"
      ],
      "metadata": {
        "colab": {
          "base_uri": "https://localhost:8080/"
        },
        "id": "aMRjWoHWcO2O",
        "outputId": "7cc82c50-71ab-461d-cf3f-97ef73de6f58"
      },
      "execution_count": 15,
      "outputs": [
        {
          "output_type": "stream",
          "name": "stdout",
          "text": [
            "1\n",
            "2\n",
            "3\n",
            "4\n",
            "5\n"
          ]
        }
      ]
    },
    {
      "cell_type": "markdown",
      "source": [
        "### **3.5 Loop Control Statements**\n",
        "- `break` – Stops the loop.\n",
        "- `continue` – Skips the current iteration.\n",
        "- `pass` – Placeholder for future code."
      ],
      "metadata": {
        "id": "3Svkxd_DcXYS"
      }
    },
    {
      "cell_type": "code",
      "source": [
        "for i in range(1, 10):\n",
        "    if i == 5:\n",
        "        break  # Loop stops when i is 5\n",
        "    print(i)"
      ],
      "metadata": {
        "colab": {
          "base_uri": "https://localhost:8080/"
        },
        "id": "iAOso4i8cVJ5",
        "outputId": "039dc4b3-841f-445c-8787-936647ba1510"
      },
      "execution_count": 16,
      "outputs": [
        {
          "output_type": "stream",
          "name": "stdout",
          "text": [
            "1\n",
            "2\n",
            "3\n",
            "4\n"
          ]
        }
      ]
    },
    {
      "cell_type": "code",
      "source": [
        "#### **Example of `continue`:**\n",
        "for i in range(1, 6):\n",
        "    if i == 3:\n",
        "        continue  # Skips printing 3\n",
        "    print(i)"
      ],
      "metadata": {
        "colab": {
          "base_uri": "https://localhost:8080/"
        },
        "id": "otfO24tXcfkz",
        "outputId": "2ac3a947-f4cc-440c-f0d4-208556e85285"
      },
      "execution_count": 17,
      "outputs": [
        {
          "output_type": "stream",
          "name": "stdout",
          "text": [
            "1\n",
            "2\n",
            "4\n",
            "5\n"
          ]
        }
      ]
    },
    {
      "cell_type": "code",
      "source": [
        "#### **Example of `pass`:**\n",
        "for i in range(1, 6):\n",
        "    if i == 3:\n",
        "        pass  # Placeholder, does nothing\n",
        "    print(i)"
      ],
      "metadata": {
        "colab": {
          "base_uri": "https://localhost:8080/"
        },
        "id": "rij1TITFcjLl",
        "outputId": "68a5bbdd-21a0-4225-e4d8-a970cfb4b694"
      },
      "execution_count": 18,
      "outputs": [
        {
          "output_type": "stream",
          "name": "stdout",
          "text": [
            "1\n",
            "2\n",
            "3\n",
            "4\n",
            "5\n"
          ]
        }
      ]
    },
    {
      "cell_type": "markdown",
      "source": [
        "## **Topic 4: Functions in Python**  \n",
        "\n",
        "Functions are reusable blocks of code that perform specific tasks. They help in making programs modular and more readable.  \n",
        "\n",
        "---\n",
        "\n",
        "### **4.1 Defining and Calling Functions**  \n",
        "A function is defined using the `def` keyword, followed by the function name and parentheses `()`.\n",
        "\n",
        "#### **Syntax:**\n",
        "```python\n",
        "def function_name(parameters):\n",
        "    \"\"\"Function docstring (optional)\"\"\"\n",
        "    # Function body\n",
        "    return value  # (optional)\n",
        "```"
      ],
      "metadata": {
        "id": "EaeWGZegcrpE"
      }
    },
    {
      "cell_type": "code",
      "source": [
        "# Function without parameters\n",
        "def greet():\n",
        "    print(\"Hello, welcome to Python!\")\n",
        "\n",
        "greet()  # Calling the function"
      ],
      "metadata": {
        "colab": {
          "base_uri": "https://localhost:8080/"
        },
        "id": "vuzXEToVcmua",
        "outputId": "b39b2ab2-625f-4604-d746-e1a22428a0ee"
      },
      "execution_count": 19,
      "outputs": [
        {
          "output_type": "stream",
          "name": "stdout",
          "text": [
            "Hello, welcome to Python!\n"
          ]
        }
      ]
    },
    {
      "cell_type": "markdown",
      "source": [
        "### **4.2 Function with Parameters**\n",
        "Functions can accept arguments to perform operations dynamically."
      ],
      "metadata": {
        "id": "khOb8jjjc36u"
      }
    },
    {
      "cell_type": "code",
      "source": [
        "def greet(name):\n",
        "    print(f\"Hello, {name}!\")\n",
        "\n",
        "greet(\"Alice\")\n",
        "greet(\"Bob\")"
      ],
      "metadata": {
        "colab": {
          "base_uri": "https://localhost:8080/"
        },
        "id": "HN1jRIDZc1QJ",
        "outputId": "d6ccb05c-64d8-477c-88b3-74283ed0ca4a"
      },
      "execution_count": 20,
      "outputs": [
        {
          "output_type": "stream",
          "name": "stdout",
          "text": [
            "Hello, Alice!\n",
            "Hello, Bob!\n"
          ]
        }
      ]
    },
    {
      "cell_type": "markdown",
      "source": [
        "### **4.3 Function with Return Value**\n",
        "A function can return a value using the `return` statement."
      ],
      "metadata": {
        "id": "f5srQ0Tgc-d1"
      }
    },
    {
      "cell_type": "code",
      "source": [
        "def add(a, b):\n",
        "    return a + b\n",
        "\n",
        "result = add(10, 5)\n",
        "print(\"Sum:\", result)"
      ],
      "metadata": {
        "colab": {
          "base_uri": "https://localhost:8080/"
        },
        "id": "lslDztgsc9t0",
        "outputId": "a913e761-2e8d-4e47-b11f-e7d909b589a7"
      },
      "execution_count": 21,
      "outputs": [
        {
          "output_type": "stream",
          "name": "stdout",
          "text": [
            "Sum: 15\n"
          ]
        }
      ]
    },
    {
      "cell_type": "markdown",
      "source": [
        "### **4.4 Default and Keyword Arguments**\n",
        "- **Default arguments** provide default values if no argument is given.  \n",
        "- **Keyword arguments** allow passing parameters in any order."
      ],
      "metadata": {
        "id": "y5Hun7SAdFDD"
      }
    },
    {
      "cell_type": "code",
      "source": [
        "def greet(name=\"Guest\"):\n",
        "    print(f\"Hello, {name}!\")\n",
        "\n",
        "greet()         # Uses default value\n",
        "greet(\"Alice\")  # Overrides default value"
      ],
      "metadata": {
        "colab": {
          "base_uri": "https://localhost:8080/"
        },
        "id": "5ZsdWwr5dEPz",
        "outputId": "ffce4cf7-ebdf-4718-92de-8e8ad117c5e9"
      },
      "execution_count": 22,
      "outputs": [
        {
          "output_type": "stream",
          "name": "stdout",
          "text": [
            "Hello, Guest!\n",
            "Hello, Alice!\n"
          ]
        }
      ]
    },
    {
      "cell_type": "code",
      "source": [
        "def student_info(name, age):\n",
        "    print(f\"Name: {name}, Age: {age}\")\n",
        "\n",
        "student_info(age=20, name=\"Bob\")  # Keyword arguments"
      ],
      "metadata": {
        "colab": {
          "base_uri": "https://localhost:8080/"
        },
        "id": "zDcAGQLBdLof",
        "outputId": "0b6a3f78-85dd-4b48-bed3-e814f221df86"
      },
      "execution_count": 23,
      "outputs": [
        {
          "output_type": "stream",
          "name": "stdout",
          "text": [
            "Name: Bob, Age: 20\n"
          ]
        }
      ]
    },
    {
      "cell_type": "markdown",
      "source": [
        "### **4.5 Variable-Length Arguments (`*args` and `**kwargs`)**\n",
        "- `*args` allows multiple positional arguments.\n",
        "- `**kwargs` allows multiple keyword arguments."
      ],
      "metadata": {
        "id": "iPQO3OejdVSv"
      }
    },
    {
      "cell_type": "code",
      "source": [
        "def add_numbers(*args):\n",
        "    return sum(args)\n",
        "\n",
        "print(add_numbers(1, 2, 3, 4, 5))  # Outputs: 15"
      ],
      "metadata": {
        "colab": {
          "base_uri": "https://localhost:8080/"
        },
        "id": "pmz5oEoLdQsl",
        "outputId": "887f6a29-3579-45f2-ea88-18f98e3596a4"
      },
      "execution_count": 25,
      "outputs": [
        {
          "output_type": "stream",
          "name": "stdout",
          "text": [
            "15\n"
          ]
        }
      ]
    },
    {
      "cell_type": "code",
      "source": [
        "def student_details(**kwargs):\n",
        "    for key, value in kwargs.items():\n",
        "        print(f\"{key}: {value}\")\n",
        "\n",
        "student_details(name=\"Alice\", age=22, course=\"Python\")"
      ],
      "metadata": {
        "colab": {
          "base_uri": "https://localhost:8080/"
        },
        "id": "NJ1HMzTGdOjk",
        "outputId": "74c341c4-1cee-4ebb-8ec5-7b05e579d42b"
      },
      "execution_count": 26,
      "outputs": [
        {
          "output_type": "stream",
          "name": "stdout",
          "text": [
            "name: Alice\n",
            "age: 22\n",
            "course: Python\n"
          ]
        }
      ]
    },
    {
      "cell_type": "markdown",
      "source": [
        "### **4.6 Lambda Functions (Anonymous Functions)**\n",
        "A lambda function is a small anonymous function that can take multiple arguments but has only one expression."
      ],
      "metadata": {
        "id": "BBCiFo7Mdlri"
      }
    },
    {
      "cell_type": "code",
      "source": [
        "square = lambda x: x ** 2\n",
        "print(square(5))  # Outputs: 25\n",
        "\n",
        "add = lambda a, b: a + b\n",
        "print(add(3, 4))  # Outputs: 7"
      ],
      "metadata": {
        "colab": {
          "base_uri": "https://localhost:8080/"
        },
        "id": "RlcvkZYadk9x",
        "outputId": "a503d709-f01d-49dc-888f-89058790d82d"
      },
      "execution_count": 27,
      "outputs": [
        {
          "output_type": "stream",
          "name": "stdout",
          "text": [
            "25\n",
            "7\n"
          ]
        }
      ]
    },
    {
      "cell_type": "markdown",
      "source": [
        "### **4.7 Recursive Functions**\n",
        "A function that calls itself is called a **recursive function**."
      ],
      "metadata": {
        "id": "M-qdyVNGdsY0"
      }
    },
    {
      "cell_type": "code",
      "source": [
        "def factorial(n):\n",
        "    if n == 1:\n",
        "        return 1\n",
        "    return n * factorial(n - 1)\n",
        "\n",
        "print(factorial(5))  # Outputs: 120"
      ],
      "metadata": {
        "colab": {
          "base_uri": "https://localhost:8080/"
        },
        "id": "z43WLW09drLB",
        "outputId": "fe3ceb6f-285e-4c4f-95ce-bd252780f2ae"
      },
      "execution_count": 28,
      "outputs": [
        {
          "output_type": "stream",
          "name": "stdout",
          "text": [
            "120\n"
          ]
        }
      ]
    },
    {
      "cell_type": "markdown",
      "source": [
        "## **Topic 5: Python Data Structures**  \n",
        "\n",
        "Python provides built-in **data structures** that help in organizing and managing data efficiently.\n",
        "\n",
        "---\n",
        "\n",
        "## **5.1 Lists (Dynamic Arrays)**\n",
        "A **list** is an ordered, mutable collection of items."
      ],
      "metadata": {
        "id": "PmbfxHhyd5Hp"
      }
    },
    {
      "cell_type": "code",
      "source": [
        "fruits = [\"Apple\", \"Banana\", \"Cherry\", \"Mango\"]\n",
        "print(fruits)  # Output: ['Apple', 'Banana', 'Cherry', 'Mango']"
      ],
      "metadata": {
        "colab": {
          "base_uri": "https://localhost:8080/"
        },
        "id": "vmEqsYLAdzQG",
        "outputId": "77915c97-9dc9-49d5-c41c-05585d1d6341"
      },
      "execution_count": 29,
      "outputs": [
        {
          "output_type": "stream",
          "name": "stdout",
          "text": [
            "['Apple', 'Banana', 'Cherry', 'Mango']\n"
          ]
        }
      ]
    },
    {
      "cell_type": "markdown",
      "source": [
        "#### **List Operations**"
      ],
      "metadata": {
        "id": "wKQIDTChd_ha"
      }
    },
    {
      "cell_type": "code",
      "source": [
        "fruits.append(\"Orange\")  # Add an item\n",
        "fruits.remove(\"Banana\")  # Remove an item\n",
        "print(fruits[0])         # Access first item\n",
        "print(fruits[-1])        # Access last item\n",
        "print(len(fruits))       # Get list length"
      ],
      "metadata": {
        "colab": {
          "base_uri": "https://localhost:8080/"
        },
        "id": "B3NLv-Z-d-3U",
        "outputId": "44023c7b-4e2e-47da-8597-13b5eb91da1b"
      },
      "execution_count": 30,
      "outputs": [
        {
          "output_type": "stream",
          "name": "stdout",
          "text": [
            "Apple\n",
            "Orange\n",
            "4\n"
          ]
        }
      ]
    },
    {
      "cell_type": "markdown",
      "source": [
        "#### **List Comprehension**"
      ],
      "metadata": {
        "id": "EDOHU_-ReFXU"
      }
    },
    {
      "cell_type": "code",
      "source": [
        "numbers = [x**2 for x in range(1, 6)]\n",
        "print(numbers)  # Output: [1, 4, 9, 16, 25]"
      ],
      "metadata": {
        "colab": {
          "base_uri": "https://localhost:8080/"
        },
        "id": "PZSnkrBneEpu",
        "outputId": "6d689e1d-5242-4a3f-ce9e-21bf9cc0bb86"
      },
      "execution_count": 31,
      "outputs": [
        {
          "output_type": "stream",
          "name": "stdout",
          "text": [
            "[1, 4, 9, 16, 25]\n"
          ]
        }
      ]
    },
    {
      "cell_type": "markdown",
      "source": [
        "## **5.2 Tuples (Immutable Lists)**\n",
        "A **tuple** is an ordered, immutable collection of items.\n",
        "\n",
        "#### **Example: Creating a Tuple**"
      ],
      "metadata": {
        "id": "rBQgfagpeKE5"
      }
    },
    {
      "cell_type": "code",
      "source": [
        "colors = (\"Red\", \"Green\", \"Blue\")\n",
        "print(colors[0])  # Access first element"
      ],
      "metadata": {
        "colab": {
          "base_uri": "https://localhost:8080/"
        },
        "id": "4egSFAz5eJdU",
        "outputId": "90628734-9586-4571-ea96-da7a565be18f"
      },
      "execution_count": 32,
      "outputs": [
        {
          "output_type": "stream",
          "name": "stdout",
          "text": [
            "Red\n"
          ]
        }
      ]
    },
    {
      "cell_type": "markdown",
      "source": [
        "#### **Tuple Packing and Unpacking**"
      ],
      "metadata": {
        "id": "u1ELYrFeeUWU"
      }
    },
    {
      "cell_type": "code",
      "source": [
        "person = (\"Alice\", 25, \"Engineer\")\n",
        "name, age, job = person\n",
        "print(name, age, job)  # Output: Alice 25 Engineer"
      ],
      "metadata": {
        "colab": {
          "base_uri": "https://localhost:8080/"
        },
        "id": "5LZpgtkdeTXh",
        "outputId": "1da8f493-cb1d-4482-8cf4-0586fd19a45a"
      },
      "execution_count": 33,
      "outputs": [
        {
          "output_type": "stream",
          "name": "stdout",
          "text": [
            "Alice 25 Engineer\n"
          ]
        }
      ]
    },
    {
      "cell_type": "markdown",
      "source": [
        "## **5.3 Sets (Unique Elements)**\n",
        "A **set** is an unordered collection of unique items.\n",
        "\n",
        "#### **Example: Creating a Set**"
      ],
      "metadata": {
        "id": "Vjanqx0geaoS"
      }
    },
    {
      "cell_type": "code",
      "source": [
        "numbers = {1, 2, 3, 4, 5, 5, 5}  # Duplicates are removed\n",
        "print(numbers)  # Output: {1, 2, 3, 4, 5}"
      ],
      "metadata": {
        "colab": {
          "base_uri": "https://localhost:8080/"
        },
        "id": "24bEiPGXeZtK",
        "outputId": "d7afbf1a-6c21-4368-d1c9-3d1bd14ae77f"
      },
      "execution_count": 34,
      "outputs": [
        {
          "output_type": "stream",
          "name": "stdout",
          "text": [
            "{1, 2, 3, 4, 5}\n"
          ]
        }
      ]
    },
    {
      "cell_type": "markdown",
      "source": [
        "#### **Set Operations**"
      ],
      "metadata": {
        "id": "OyNywTdzegn5"
      }
    },
    {
      "cell_type": "code",
      "source": [
        "A = {1, 2, 3, 4}\n",
        "B = {3, 4, 5, 6}\n",
        "\n",
        "print(A.union(B))     # {1, 2, 3, 4, 5, 6}\n",
        "print(A.intersection(B))  # {3, 4}\n",
        "print(A.difference(B))    # {1, 2}"
      ],
      "metadata": {
        "colab": {
          "base_uri": "https://localhost:8080/"
        },
        "id": "6PaFRahfefno",
        "outputId": "9f40fec9-5145-46f7-c7f4-a5b854745906"
      },
      "execution_count": 35,
      "outputs": [
        {
          "output_type": "stream",
          "name": "stdout",
          "text": [
            "{1, 2, 3, 4, 5, 6}\n",
            "{3, 4}\n",
            "{1, 2}\n"
          ]
        }
      ]
    },
    {
      "cell_type": "markdown",
      "source": [
        "## **5.4 Dictionaries (Key-Value Pairs)**\n",
        "A **dictionary** is an unordered collection of key-value pairs.\n",
        "\n",
        "#### **Example: Creating a Dictionary**"
      ],
      "metadata": {
        "id": "TYfIGLURelxk"
      }
    },
    {
      "cell_type": "code",
      "source": [
        "student = {\"name\": \"Alice\", \"age\": 25, \"grade\": \"A\"}\n",
        "print(student[\"name\"])  # Output: Alice"
      ],
      "metadata": {
        "colab": {
          "base_uri": "https://localhost:8080/"
        },
        "id": "tNck7rkwek4e",
        "outputId": "519a5934-3787-446c-d918-a8f179ee03c3"
      },
      "execution_count": 36,
      "outputs": [
        {
          "output_type": "stream",
          "name": "stdout",
          "text": [
            "Alice\n"
          ]
        }
      ]
    },
    {
      "cell_type": "markdown",
      "source": [
        "#### **Dictionary Operations**"
      ],
      "metadata": {
        "id": "y-WYm0NrerPt"
      }
    },
    {
      "cell_type": "code",
      "source": [
        "student[\"age\"] = 26  # Modify value\n",
        "student[\"city\"] = \"New York\"  # Add new key-value pair\n",
        "del student[\"grade\"]  # Delete a key\n",
        "print(student.keys())  # Get all keys\n",
        "print(student.values())  # Get all values"
      ],
      "metadata": {
        "colab": {
          "base_uri": "https://localhost:8080/"
        },
        "id": "evHcmErleqiW",
        "outputId": "08e19353-c59d-47ac-e438-97e61cfd3e90"
      },
      "execution_count": 37,
      "outputs": [
        {
          "output_type": "stream",
          "name": "stdout",
          "text": [
            "dict_keys(['name', 'age', 'city'])\n",
            "dict_values(['Alice', 26, 'New York'])\n"
          ]
        }
      ]
    },
    {
      "cell_type": "markdown",
      "source": [
        "#### **Looping through Dictionary**\n"
      ],
      "metadata": {
        "id": "RAgN_XEXexvv"
      }
    },
    {
      "cell_type": "code",
      "source": [
        "for key, value in student.items():\n",
        "    print(key, \":\", value)"
      ],
      "metadata": {
        "colab": {
          "base_uri": "https://localhost:8080/"
        },
        "id": "alRFiePxevnV",
        "outputId": "7f692e4d-65ba-4391-ccf2-7e022a456866"
      },
      "execution_count": 38,
      "outputs": [
        {
          "output_type": "stream",
          "name": "stdout",
          "text": [
            "name : Alice\n",
            "age : 26\n",
            "city : New York\n"
          ]
        }
      ]
    },
    {
      "cell_type": "markdown",
      "source": [
        "## **Topic 6: File Handling in Python**  \n",
        "\n",
        "File handling allows reading, writing, and manipulating files in Python.  \n",
        "\n",
        "---\n",
        "\n",
        "### **6.1 Opening a File**  \n",
        "Python provides the `open()` function to open a file. The syntax is:  "
      ],
      "metadata": {
        "id": "v01qn7fUkHZw"
      }
    },
    {
      "cell_type": "markdown",
      "source": [
        "```python\n",
        "file = open(\"filename.txt\", \"mode\")\n",
        "```\n",
        "| Mode | Description |\n",
        "|------|------------|\n",
        "| `r`  | Read (default) |\n",
        "| `w`  | Write (creates new file if not exists, overwrites existing content) |\n",
        "| `a`  | Append (adds data at the end of the file) |\n",
        "| `x`  | Create (creates a new file, returns error if file exists) |\n",
        "| `t`  | Text mode (default) |\n",
        "| `b`  | Binary mode |\n",
        "\n",
        "---\n",
        "\n",
        "### **6.2 Reading a File**  \n",
        "#### **Example: Read entire file**"
      ],
      "metadata": {
        "id": "1sBoYXw6fEzT"
      }
    },
    {
      "cell_type": "code",
      "source": [
        "file = open(\"example.txt\", \"r\")\n",
        "content = file.read()\n",
        "print(content)\n",
        "file.close()"
      ],
      "metadata": {
        "id": "y6-7rCcee9yL"
      },
      "execution_count": null,
      "outputs": []
    },
    {
      "cell_type": "markdown",
      "source": [
        "#### **Read file line by line**"
      ],
      "metadata": {
        "id": "8UL4bkbrfOnn"
      }
    },
    {
      "cell_type": "code",
      "source": [
        "file = open(\"example.txt\", \"r\")\n",
        "for line in file:\n",
        "    print(line.strip())  # Removes newline characters\n",
        "file.close()"
      ],
      "metadata": {
        "id": "JKt6L4gjfQnQ"
      },
      "execution_count": null,
      "outputs": []
    },
    {
      "cell_type": "markdown",
      "source": [
        "#### **Using `with open()` (Best Practice)**"
      ],
      "metadata": {
        "id": "nFiNRe4DfUPu"
      }
    },
    {
      "cell_type": "code",
      "source": [
        "with open(\"example.txt\", \"r\") as file:\n",
        "    content = file.read()\n",
        "    print(content)  # File closes automatically"
      ],
      "metadata": {
        "id": "lPNL5cjefWWI"
      },
      "execution_count": null,
      "outputs": []
    },
    {
      "cell_type": "markdown",
      "source": [
        "### **6.3 Writing to a File**\n",
        "#### **Example: Writing (Overwriting)**"
      ],
      "metadata": {
        "id": "ZiYRUffHfZDW"
      }
    },
    {
      "cell_type": "code",
      "source": [
        "with open(\"example.txt\", \"w\") as file:\n",
        "    file.write(\"Hello, World!\\n\")\n",
        "    file.write(\"Welcome to Python file handling.\")"
      ],
      "metadata": {
        "id": "0ZDpwfWSfai-"
      },
      "execution_count": null,
      "outputs": []
    },
    {
      "cell_type": "markdown",
      "source": [
        "#### **Example: Appending to a File**\n"
      ],
      "metadata": {
        "id": "Pc7VToyVfedk"
      }
    },
    {
      "cell_type": "code",
      "source": [
        "with open(\"example.txt\", \"a\") as file:\n",
        "    file.write(\"\\nThis line is added using append mode.\")"
      ],
      "metadata": {
        "id": "4p8EGVdQfgEz"
      },
      "execution_count": null,
      "outputs": []
    },
    {
      "cell_type": "markdown",
      "source": [
        "### **6.4 Working with Binary Files**\n",
        "Binary mode (`b`) is used to handle non-text files like images and audio.\n",
        "\n",
        "#### **Example: Copy an Image**\n"
      ],
      "metadata": {
        "id": "PfsaKB2XfjhZ"
      }
    },
    {
      "cell_type": "code",
      "source": [
        "with open(\"image.jpg\", \"rb\") as source:\n",
        "    with open(\"copy.jpg\", \"wb\") as destination:\n",
        "        destination.write(source.read())"
      ],
      "metadata": {
        "id": "wckGav6KflAS"
      },
      "execution_count": null,
      "outputs": []
    },
    {
      "cell_type": "markdown",
      "source": [
        "### **6.5 File Handling with `os` and `shutil`**\n",
        "The `os` module allows file and directory operations.\n",
        "\n",
        "#### **Checking if a File Exists**"
      ],
      "metadata": {
        "id": "91oKr6Q5fojd"
      }
    },
    {
      "cell_type": "code",
      "source": [
        "import os\n",
        "\n",
        "if os.path.exists(\"example.txt\"):\n",
        "    print(\"File exists\")\n",
        "else:\n",
        "    print(\"File does not exist\")"
      ],
      "metadata": {
        "id": "hYy53DJbfp53"
      },
      "execution_count": null,
      "outputs": []
    },
    {
      "cell_type": "markdown",
      "source": [
        "#### **Deleting a File**"
      ],
      "metadata": {
        "id": "Df58ZoFsfuyu"
      }
    },
    {
      "cell_type": "code",
      "source": [
        "os.remove(\"example.txt\")"
      ],
      "metadata": {
        "id": "Wwdbb3yXfxeP"
      },
      "execution_count": null,
      "outputs": []
    },
    {
      "cell_type": "markdown",
      "source": [
        "#### **Working with Directories**"
      ],
      "metadata": {
        "id": "AhLW2Ipqf1GC"
      }
    },
    {
      "cell_type": "code",
      "source": [
        "os.mkdir(\"NewFolder\")  # Create a new directory\n",
        "os.rmdir(\"NewFolder\")  # Remove an empty directory"
      ],
      "metadata": {
        "id": "CC5vACFXf2l8"
      },
      "execution_count": null,
      "outputs": []
    },
    {
      "cell_type": "markdown",
      "source": [
        "## **Topic 7: Object-Oriented Programming (OOP) in Python**  \n",
        "\n",
        "Object-Oriented Programming (OOP) is a programming paradigm based on the concept of **objects**, which contain **attributes (data)** and **methods (functions)**.\n",
        "\n",
        "---\n",
        "\n",
        "### **7.1 Classes and Objects**  \n",
        "- A **class** is a blueprint for creating objects.\n",
        "- An **object** is an instance of a class.\n",
        "\n",
        "#### **Example: Creating a Class and Object**\n"
      ],
      "metadata": {
        "id": "m9aab-SPf4uc"
      }
    },
    {
      "cell_type": "code",
      "source": [
        "class Car:\n",
        "    def __init__(self, brand, model):\n",
        "        self.brand = brand\n",
        "        self.model = model\n",
        "\n",
        "    def display_info(self):\n",
        "        print(f\"Car: {self.brand} {self.model}\")"
      ],
      "metadata": {
        "id": "8y9ku1kAf9E4"
      },
      "execution_count": 40,
      "outputs": []
    },
    {
      "cell_type": "code",
      "source": [
        "# Creating an object\n",
        "car1 = Car(\"Toyota\", \"Camry\")\n",
        "car1.display_info()"
      ],
      "metadata": {
        "colab": {
          "base_uri": "https://localhost:8080/"
        },
        "id": "DBf1d4Y-f_TW",
        "outputId": "6a3ca5ff-b282-45c3-c636-5df03b46c7a0"
      },
      "execution_count": 41,
      "outputs": [
        {
          "output_type": "stream",
          "name": "stdout",
          "text": [
            "Car: Toyota Camry\n"
          ]
        }
      ]
    },
    {
      "cell_type": "markdown",
      "source": [
        "### **7.2 The `__init__()` Constructor Method**\n",
        "- The `__init__()` method is called when an object is created.\n",
        "- It initializes object attributes.\n",
        "\n",
        "#### **Example:**"
      ],
      "metadata": {
        "id": "vuQPGdKFgCyE"
      }
    },
    {
      "cell_type": "code",
      "source": [
        "class Person:\n",
        "    def __init__(self, name, age):\n",
        "        self.name = name\n",
        "        self.age = age\n",
        "\n",
        "    def greet(self):\n",
        "        print(f\"Hello, my name is {self.name} and I am {self.age} years old.\")"
      ],
      "metadata": {
        "id": "uFG8pIJcgBqi"
      },
      "execution_count": 42,
      "outputs": []
    },
    {
      "cell_type": "code",
      "source": [
        "p1 = Person(\"Alice\", 25)\n",
        "p1.greet()"
      ],
      "metadata": {
        "colab": {
          "base_uri": "https://localhost:8080/"
        },
        "id": "alIdIV_1gG6g",
        "outputId": "e66adf57-b353-4389-f4bb-047602ab6330"
      },
      "execution_count": 43,
      "outputs": [
        {
          "output_type": "stream",
          "name": "stdout",
          "text": [
            "Hello, my name is Alice and I am 25 years old.\n"
          ]
        }
      ]
    },
    {
      "cell_type": "markdown",
      "source": [
        "### **7.3 Class and Instance Variables**\n",
        "- **Instance variables** (`self.variable`) are unique to each object.\n",
        "- **Class variables** are shared among all instances.\n",
        "\n",
        "#### **Example:**\n"
      ],
      "metadata": {
        "id": "GpDYuur9gKPW"
      }
    },
    {
      "cell_type": "code",
      "source": [
        "class Student:\n",
        "    school = \"ABC High School\"  # Class variable\n",
        "\n",
        "    def __init__(self, name, grade):\n",
        "        self.name = name  # Instance variable\n",
        "        self.grade = grade"
      ],
      "metadata": {
        "id": "1e0NommBgJVp"
      },
      "execution_count": 44,
      "outputs": []
    },
    {
      "cell_type": "code",
      "source": [
        "s1 = Student(\"John\", \"A\")\n",
        "s2 = Student(\"Emma\", \"B\")\n",
        "\n",
        "print(s1.school)  # Accessing class variable\n",
        "print(s1.name, s1.grade)  # Accessing instance variables"
      ],
      "metadata": {
        "colab": {
          "base_uri": "https://localhost:8080/"
        },
        "id": "0nArx0DTgNuX",
        "outputId": "31011b5b-2808-4e11-d50f-d7c46649105b"
      },
      "execution_count": 45,
      "outputs": [
        {
          "output_type": "stream",
          "name": "stdout",
          "text": [
            "ABC High School\n",
            "John A\n"
          ]
        }
      ]
    },
    {
      "cell_type": "markdown",
      "source": [
        "### **7.4 Inheritance**\n",
        "- **Inheritance** allows a class to derive properties and methods from another class.\n",
        "\n",
        "#### **Example:**\n"
      ],
      "metadata": {
        "id": "0Rl3-zl1gRTz"
      }
    },
    {
      "cell_type": "code",
      "source": [
        "class Animal:\n",
        "    def __init__(self, name):\n",
        "        self.name = name\n",
        "\n",
        "    def make_sound(self):\n",
        "        print(\"Some generic sound\")\n",
        "\n",
        "class Dog(Animal):  # Dog class inherits from Animal\n",
        "    def make_sound(self):\n",
        "        print(\"Bark!\")"
      ],
      "metadata": {
        "id": "lIHeqle2gQR5"
      },
      "execution_count": 46,
      "outputs": []
    },
    {
      "cell_type": "code",
      "source": [
        "dog = Dog(\"Buddy\")\n",
        "dog.make_sound()  # Output: Bark!"
      ],
      "metadata": {
        "colab": {
          "base_uri": "https://localhost:8080/"
        },
        "id": "S_W1gJZLgVAD",
        "outputId": "fa77a4d2-8c17-4c24-d8e2-1c357a699d2b"
      },
      "execution_count": 47,
      "outputs": [
        {
          "output_type": "stream",
          "name": "stdout",
          "text": [
            "Bark!\n"
          ]
        }
      ]
    },
    {
      "cell_type": "markdown",
      "source": [
        "### **7.5 Method Overriding**\n",
        "- When a subclass provides a specific implementation of a method from the parent class.\n",
        "\n",
        "#### **Example:**\n"
      ],
      "metadata": {
        "id": "EyGcSj6MgXjr"
      }
    },
    {
      "cell_type": "code",
      "source": [
        "class Parent:\n",
        "    def show(self):\n",
        "        print(\"Parent class\")\n",
        "\n",
        "class Child(Parent):\n",
        "    def show(self):\n",
        "        print(\"Child class\")"
      ],
      "metadata": {
        "id": "dA3FNowrgW-h"
      },
      "execution_count": 48,
      "outputs": []
    },
    {
      "cell_type": "code",
      "source": [
        "obj = Child()\n",
        "obj.show()  # Output: Child class"
      ],
      "metadata": {
        "colab": {
          "base_uri": "https://localhost:8080/"
        },
        "id": "6SCvYXoQgblE",
        "outputId": "ea835a81-38cd-4520-aa5f-a7ca3988a6d7"
      },
      "execution_count": 49,
      "outputs": [
        {
          "output_type": "stream",
          "name": "stdout",
          "text": [
            "Child class\n"
          ]
        }
      ]
    },
    {
      "cell_type": "markdown",
      "source": [
        "### **7.6 Encapsulation (Public, Private, and Protected)**\n",
        "Encapsulation restricts direct access to some attributes.\n",
        "\n",
        "| Access Modifier | Description |\n",
        "|----------------|-------------|\n",
        "| `public` (`self.var`) | Accessible anywhere |\n",
        "| `protected` (`self._var`) | Accessible within class and subclasses |\n",
        "| `private` (`self.__var`) | Not directly accessible outside the class |\n",
        "\n",
        "#### **Example:**"
      ],
      "metadata": {
        "id": "iKQWDs1dgd5t"
      }
    },
    {
      "cell_type": "code",
      "source": [
        "class BankAccount:\n",
        "    def __init__(self, owner, balance):\n",
        "        self.owner = owner  # Public\n",
        "        self._account_type = \"Savings\"  # Protected\n",
        "        self.__balance = balance  # Private\n",
        "\n",
        "    def show_balance(self):\n",
        "        print(f\"Balance: {self.__balance}\")"
      ],
      "metadata": {
        "id": "OPKX7iVPgdbE"
      },
      "execution_count": 50,
      "outputs": []
    },
    {
      "cell_type": "code",
      "source": [
        "acc = BankAccount(\"Alice\", 1000)\n",
        "print(acc.owner)  # Accessible\n",
        "print(acc._account_type)  # Accessible but not recommended\n",
        "# print(acc.__balance)  # Error: Private variable\n",
        "acc.show_balance()  # Access private variable via method"
      ],
      "metadata": {
        "colab": {
          "base_uri": "https://localhost:8080/"
        },
        "id": "xFJUrj_tghgb",
        "outputId": "63c31815-4c8b-48c6-8ad3-e39ad5b19a34"
      },
      "execution_count": 51,
      "outputs": [
        {
          "output_type": "stream",
          "name": "stdout",
          "text": [
            "Alice\n",
            "Savings\n",
            "Balance: 1000\n"
          ]
        }
      ]
    },
    {
      "cell_type": "markdown",
      "source": [
        "### **7.7 Polymorphism (Same Method, Different Behavior)**\n",
        "- **Polymorphism** allows different classes to have the same method but different implementations.\n",
        "\n",
        "#### **Example:**"
      ],
      "metadata": {
        "id": "Oa1sPh-QgkXv"
      }
    },
    {
      "cell_type": "code",
      "source": [
        "class Bird:\n",
        "    def speak(self):\n",
        "        print(\"Bird chirps\")\n",
        "\n",
        "class Dog:\n",
        "    def speak(self):\n",
        "        print(\"Dog barks\")"
      ],
      "metadata": {
        "id": "Ggx059g-gjo6"
      },
      "execution_count": 52,
      "outputs": []
    },
    {
      "cell_type": "code",
      "source": [
        "animals = [Bird(), Dog()]\n",
        "for animal in animals:\n",
        "    animal.speak()"
      ],
      "metadata": {
        "colab": {
          "base_uri": "https://localhost:8080/"
        },
        "id": "nrDGerFCgslr",
        "outputId": "99230265-4fd6-427e-f4d9-1500e930a641"
      },
      "execution_count": 53,
      "outputs": [
        {
          "output_type": "stream",
          "name": "stdout",
          "text": [
            "Bird chirps\n",
            "Dog barks\n"
          ]
        }
      ]
    },
    {
      "cell_type": "markdown",
      "source": [
        "### **7.8 Magic Methods (`__str__`, `__len__`, `__add__`)**\n",
        "- **Magic methods** (dunder methods) allow customization of object behavior.\n",
        "\n",
        "#### **Example: `__str__()` for Readable Object Representation**"
      ],
      "metadata": {
        "id": "-im93WY5gvmY"
      }
    },
    {
      "cell_type": "code",
      "source": [
        "class Person:\n",
        "    def __init__(self, name):\n",
        "        self.name = name\n",
        "\n",
        "    def __str__(self):\n",
        "        return f\"Person: {self.name}\""
      ],
      "metadata": {
        "id": "JYcKay96gu53"
      },
      "execution_count": 54,
      "outputs": []
    },
    {
      "cell_type": "code",
      "source": [
        "p = Person(\"Alice\")\n",
        "print(p)  # Output: Person: Alice"
      ],
      "metadata": {
        "colab": {
          "base_uri": "https://localhost:8080/"
        },
        "id": "qUr_nQuzgy9z",
        "outputId": "fa660653-5ac0-42b0-dc55-7e14ac1cea35"
      },
      "execution_count": 55,
      "outputs": [
        {
          "output_type": "stream",
          "name": "stdout",
          "text": [
            "Person: Alice\n"
          ]
        }
      ]
    },
    {
      "cell_type": "markdown",
      "source": [
        "## **Topic 7/2: Exception Handling in Python**  \n",
        "\n",
        "Exception handling is a mechanism that allows a program to deal with runtime errors gracefully instead of crashing.\n",
        "\n",
        "---\n",
        "\n",
        "### **7/2.1 What is an Exception?**  \n",
        "An **exception** is an error that occurs during program execution. Some common exceptions include:\n",
        "\n",
        "| Exception | Description |\n",
        "|-----------|-------------|\n",
        "| `ZeroDivisionError` | Division by zero |\n",
        "| `TypeError` | Invalid type operation |\n",
        "| `ValueError` | Invalid value in function argument |\n",
        "| `IndexError` | List index out of range |\n",
        "| `KeyError` | Dictionary key not found |\n",
        "| `FileNotFoundError` | File does not exist |\n",
        "\n",
        "---\n",
        "\n",
        "### **7/2.2 Handling Exceptions with `try-except`**  \n",
        "The `try-except` block is used to catch and handle exceptions.\n",
        "\n",
        "#### **Example: Handling Division by Zero**\n"
      ],
      "metadata": {
        "id": "XKl997Ieg7yY"
      }
    },
    {
      "cell_type": "code",
      "source": [
        "try:\n",
        "    x = 5 / 0  # Will raise ZeroDivisionError\n",
        "except ZeroDivisionError:\n",
        "    print(\"Error: Cannot divide by zero.\")"
      ],
      "metadata": {
        "colab": {
          "base_uri": "https://localhost:8080/"
        },
        "id": "2FCt4xZVg0x4",
        "outputId": "10c00a29-cf15-4bc5-895c-801e079dc9cf"
      },
      "execution_count": 56,
      "outputs": [
        {
          "output_type": "stream",
          "name": "stdout",
          "text": [
            "Error: Cannot divide by zero.\n"
          ]
        }
      ]
    },
    {
      "cell_type": "markdown",
      "source": [
        "#### **Example: Handling Multiple Exceptions**\n"
      ],
      "metadata": {
        "id": "S1eqTcfKhBCC"
      }
    },
    {
      "cell_type": "code",
      "source": [
        "try:\n",
        "    a = int(\"abc\")  # Raises ValueError\n",
        "except ValueError:\n",
        "    print(\"Invalid input. Please enter a number.\")\n",
        "except ZeroDivisionError:\n",
        "    print(\"Cannot divide by zero.\")"
      ],
      "metadata": {
        "colab": {
          "base_uri": "https://localhost:8080/"
        },
        "id": "YM0CN99-hAjo",
        "outputId": "d2383593-aea4-4008-c4a2-fb7a2019ec7e"
      },
      "execution_count": 57,
      "outputs": [
        {
          "output_type": "stream",
          "name": "stdout",
          "text": [
            "Invalid input. Please enter a number.\n"
          ]
        }
      ]
    },
    {
      "cell_type": "markdown",
      "source": [
        "### **7/2.3 Using `else` and `finally` in Exception Handling**\n",
        "- `else` runs if no exception occurs.\n",
        "- `finally` runs **always**, whether an exception occurs or not.\n",
        "\n",
        "#### **Example:**"
      ],
      "metadata": {
        "id": "g1teIjfPhHeg"
      }
    },
    {
      "cell_type": "code",
      "source": [
        "try:\n",
        "    num = int(input(\"Enter a number: \"))\n",
        "    result = 10 / num\n",
        "except ZeroDivisionError:\n",
        "    print(\"Cannot divide by zero.\")\n",
        "except ValueError:\n",
        "    print(\"Invalid input.\")\n",
        "else:\n",
        "    print(f\"Result: {result}\")  # Runs if no exception occurs\n",
        "finally:\n",
        "    print(\"Execution completed.\")  # Always runs"
      ],
      "metadata": {
        "id": "rnWNcssaiRXv"
      },
      "execution_count": null,
      "outputs": []
    },
    {
      "cell_type": "markdown",
      "source": [
        "### **7/2.4 Raising Exceptions (`raise` Statement)**\n",
        "The `raise` keyword allows manually triggering an exception.\n",
        "\n",
        "#### **Example: Raise a Custom Exception**\n"
      ],
      "metadata": {
        "id": "EFyiOE3wiVXX"
      }
    },
    {
      "cell_type": "code",
      "source": [
        "def check_age(age):\n",
        "    if age < 18:\n",
        "        raise ValueError(\"Age must be 18 or above.\")\n",
        "    print(\"Age is valid.\")\n",
        "\n",
        "try:\n",
        "    check_age(16)\n",
        "except ValueError as e:\n",
        "    print(f\"Error: {e}\")"
      ],
      "metadata": {
        "colab": {
          "base_uri": "https://localhost:8080/"
        },
        "id": "5_GIoJS3iX6Z",
        "outputId": "529cad04-ce67-4e14-e019-7e57eae3c374"
      },
      "execution_count": 61,
      "outputs": [
        {
          "output_type": "stream",
          "name": "stdout",
          "text": [
            "Error: Age must be 18 or above.\n"
          ]
        }
      ]
    },
    {
      "cell_type": "markdown",
      "source": [
        "### **7/2.5 Creating Custom Exceptions**\n",
        "You can define your own exception classes by inheriting from `Exception`.\n",
        "\n",
        "#### **Example: Custom Exception Class**"
      ],
      "metadata": {
        "id": "oEhY2N2vight"
      }
    },
    {
      "cell_type": "code",
      "source": [
        "class NegativeNumberError(Exception):\n",
        "    \"\"\"Custom exception for negative numbers\"\"\"\n",
        "    pass"
      ],
      "metadata": {
        "id": "g3jXHWgXhExs"
      },
      "execution_count": 58,
      "outputs": []
    },
    {
      "cell_type": "code",
      "source": [
        "def check_positive(num):\n",
        "    if num < 0:\n",
        "        raise NegativeNumberError(\"Negative numbers are not allowed.\")\n",
        "    print(\"Valid number.\")"
      ],
      "metadata": {
        "id": "WO6-JKoxhMrc"
      },
      "execution_count": 59,
      "outputs": []
    },
    {
      "cell_type": "code",
      "source": [
        "try:\n",
        "    check_positive(-5)\n",
        "except NegativeNumberError as e:\n",
        "    print(f\"Error: {e}\")"
      ],
      "metadata": {
        "colab": {
          "base_uri": "https://localhost:8080/"
        },
        "id": "NBG2ZkQThOBx",
        "outputId": "07be3e12-8b42-4874-80aa-6ca96cf4b98c"
      },
      "execution_count": 60,
      "outputs": [
        {
          "output_type": "stream",
          "name": "stdout",
          "text": [
            "Error: Negative numbers are not allowed.\n"
          ]
        }
      ]
    },
    {
      "cell_type": "markdown",
      "source": [
        "## **Topic 8: Python Libraries & Frameworks - NumPy (Arrays & Operations)**  \n",
        "\n",
        "NumPy (**Numerical Python**) is a powerful Python library used for numerical computing. It provides support for large, multi-dimensional arrays and matrices, along with mathematical functions.\n",
        "\n",
        "---\n",
        "\n",
        "### **8.1 Installing and Importing NumPy**\n",
        "Before using NumPy, install it using:\n",
        "```bash\n",
        "pip install numpy\n",
        "```\n",
        "Then, import it in Python:"
      ],
      "metadata": {
        "id": "_a36rke3iy1P"
      }
    },
    {
      "cell_type": "code",
      "source": [
        "import numpy as np"
      ],
      "metadata": {
        "id": "WFIeq1YEivKP"
      },
      "execution_count": 63,
      "outputs": []
    },
    {
      "cell_type": "markdown",
      "source": [
        "### **8.2 Creating NumPy Arrays**\n",
        "A NumPy array (`ndarray`) is more efficient than a Python list for numerical operations.\n",
        "\n",
        "#### **Example: Creating Arrays**"
      ],
      "metadata": {
        "id": "K3BVaXMsi4qe"
      }
    },
    {
      "cell_type": "code",
      "source": [
        "import numpy as np"
      ],
      "metadata": {
        "id": "QF0wPtnihQ1n"
      },
      "execution_count": 64,
      "outputs": []
    },
    {
      "cell_type": "code",
      "source": [
        "# Creating a 1D array\n",
        "arr1 = np.array([1, 2, 3, 4, 5])\n",
        "print(\"1D Array:\", arr1)"
      ],
      "metadata": {
        "colab": {
          "base_uri": "https://localhost:8080/"
        },
        "id": "W0ycvWYPi-a0",
        "outputId": "6258f040-f8a9-4607-b53f-24a5cd9f3e67"
      },
      "execution_count": 65,
      "outputs": [
        {
          "output_type": "stream",
          "name": "stdout",
          "text": [
            "1D Array: [1 2 3 4 5]\n"
          ]
        }
      ]
    },
    {
      "cell_type": "code",
      "source": [
        "# Creating a 2D array (Matrix)\n",
        "arr2 = np.array([[1, 2, 3], [4, 5, 6]])\n",
        "print(\"2D Array:\\n\", arr2)"
      ],
      "metadata": {
        "colab": {
          "base_uri": "https://localhost:8080/"
        },
        "id": "c2W029M2i_-t",
        "outputId": "24ee22d9-8e53-4921-86a3-fc0858d2eac9"
      },
      "execution_count": 66,
      "outputs": [
        {
          "output_type": "stream",
          "name": "stdout",
          "text": [
            "2D Array:\n",
            " [[1 2 3]\n",
            " [4 5 6]]\n"
          ]
        }
      ]
    },
    {
      "cell_type": "code",
      "source": [
        "# Creating an array of zeros\n",
        "zero_arr = np.zeros((3, 3))\n",
        "print(\"Zero Array:\\n\", zero_arr)"
      ],
      "metadata": {
        "colab": {
          "base_uri": "https://localhost:8080/"
        },
        "id": "Z2E2tashjBT0",
        "outputId": "87d5b0de-5e49-483b-daeb-63025bb47205"
      },
      "execution_count": 67,
      "outputs": [
        {
          "output_type": "stream",
          "name": "stdout",
          "text": [
            "Zero Array:\n",
            " [[0. 0. 0.]\n",
            " [0. 0. 0.]\n",
            " [0. 0. 0.]]\n"
          ]
        }
      ]
    },
    {
      "cell_type": "code",
      "source": [
        "# Creating an array of ones\n",
        "ones_arr = np.ones((2, 2))\n",
        "print(\"Ones Array:\\n\", ones_arr)"
      ],
      "metadata": {
        "colab": {
          "base_uri": "https://localhost:8080/"
        },
        "id": "DmG7FZ3CjCgq",
        "outputId": "3ec07eb8-7e11-4e25-99d4-0a68a4fd2eb2"
      },
      "execution_count": 68,
      "outputs": [
        {
          "output_type": "stream",
          "name": "stdout",
          "text": [
            "Ones Array:\n",
            " [[1. 1.]\n",
            " [1. 1.]]\n"
          ]
        }
      ]
    },
    {
      "cell_type": "code",
      "source": [
        "# Creating an array with a range of values\n",
        "range_arr = np.arange(1, 10, 2)  # Start=1, Stop=10, Step=2\n",
        "print(\"Range Array:\", range_arr)"
      ],
      "metadata": {
        "colab": {
          "base_uri": "https://localhost:8080/"
        },
        "id": "zUB6BwVAjD0h",
        "outputId": "56ad4387-86fb-4138-f995-70440d948241"
      },
      "execution_count": 69,
      "outputs": [
        {
          "output_type": "stream",
          "name": "stdout",
          "text": [
            "Range Array: [1 3 5 7 9]\n"
          ]
        }
      ]
    },
    {
      "cell_type": "code",
      "source": [
        "# Creating an evenly spaced array\n",
        "linspace_arr = np.linspace(0, 10, 5)  # 5 evenly spaced values from 0 to 10\n",
        "print(\"Linspace Array:\", linspace_arr)"
      ],
      "metadata": {
        "colab": {
          "base_uri": "https://localhost:8080/"
        },
        "id": "rW1gK-4njFD_",
        "outputId": "624ca923-00c1-4eba-8da3-7ddb28cb98ff"
      },
      "execution_count": 70,
      "outputs": [
        {
          "output_type": "stream",
          "name": "stdout",
          "text": [
            "Linspace Array: [ 0.   2.5  5.   7.5 10. ]\n"
          ]
        }
      ]
    },
    {
      "cell_type": "markdown",
      "source": [
        "### **8.3 Array Attributes**\n",
        "NumPy arrays have useful attributes:"
      ],
      "metadata": {
        "id": "KkWQHBuJjI3F"
      }
    },
    {
      "cell_type": "code",
      "source": [
        "print(\"Shape:\", arr2.shape)  # Rows and columns\n",
        "print(\"Size:\", arr2.size)    # Total elements\n",
        "print(\"Data Type:\", arr2.dtype)  # Type of elements\n",
        "print(\"Number of Dimensions:\", arr2.ndim)  # 1D, 2D, or 3D"
      ],
      "metadata": {
        "colab": {
          "base_uri": "https://localhost:8080/"
        },
        "id": "RnYaurWxjHGG",
        "outputId": "ee156286-3fef-4e9b-f046-399c9fe4203a"
      },
      "execution_count": 71,
      "outputs": [
        {
          "output_type": "stream",
          "name": "stdout",
          "text": [
            "Shape: (2, 3)\n",
            "Size: 6\n",
            "Data Type: int64\n",
            "Number of Dimensions: 2\n"
          ]
        }
      ]
    },
    {
      "cell_type": "markdown",
      "source": [
        "### **8.4 Array Operations**\n",
        "NumPy allows element-wise operations."
      ],
      "metadata": {
        "id": "QahRkrSgjNyg"
      }
    },
    {
      "cell_type": "code",
      "source": [
        "arrA = np.array([1, 2, 3])\n",
        "arrB = np.array([4, 5, 6])"
      ],
      "metadata": {
        "id": "E3wOYIe_jNOq"
      },
      "execution_count": 72,
      "outputs": []
    },
    {
      "cell_type": "code",
      "source": [
        "print(\"Addition:\", arrA + arrB)\n",
        "print(\"Subtraction:\", arrA - arrB)\n",
        "print(\"Multiplication:\", arrA * arrB)\n",
        "print(\"Division:\", arrA / arrB)\n",
        "print(\"Exponentiation:\", arrA ** 2)"
      ],
      "metadata": {
        "colab": {
          "base_uri": "https://localhost:8080/"
        },
        "id": "XtL6aVlEjRms",
        "outputId": "cb288728-9078-4d38-f15d-e4abd5b4c5c1"
      },
      "execution_count": 73,
      "outputs": [
        {
          "output_type": "stream",
          "name": "stdout",
          "text": [
            "Addition: [5 7 9]\n",
            "Subtraction: [-3 -3 -3]\n",
            "Multiplication: [ 4 10 18]\n",
            "Division: [0.25 0.4  0.5 ]\n",
            "Exponentiation: [1 4 9]\n"
          ]
        }
      ]
    },
    {
      "cell_type": "markdown",
      "source": [
        "### **8.5 Matrix Operations**\n",
        "NumPy supports matrix operations like dot product and transpose."
      ],
      "metadata": {
        "id": "csjEbxNzjUY3"
      }
    },
    {
      "cell_type": "code",
      "source": [
        "matrix1 = np.array([[1, 2], [3, 4]])\n",
        "matrix2 = np.array([[5, 6], [7, 8]])"
      ],
      "metadata": {
        "id": "nnUu08nNjT91"
      },
      "execution_count": 74,
      "outputs": []
    },
    {
      "cell_type": "code",
      "source": [
        "print(\"Matrix Multiplication:\\n\", np.dot(matrix1, matrix2))\n",
        "print(\"Transpose of Matrix:\\n\", matrix1.T)"
      ],
      "metadata": {
        "colab": {
          "base_uri": "https://localhost:8080/"
        },
        "id": "QkYS91RWjX5s",
        "outputId": "bbbacf3d-d1f9-4dc4-e632-192338f6c313"
      },
      "execution_count": 75,
      "outputs": [
        {
          "output_type": "stream",
          "name": "stdout",
          "text": [
            "Matrix Multiplication:\n",
            " [[19 22]\n",
            " [43 50]]\n",
            "Transpose of Matrix:\n",
            " [[1 3]\n",
            " [2 4]]\n"
          ]
        }
      ]
    },
    {
      "cell_type": "markdown",
      "source": [
        "### **8.6 Statistical Functions**\n",
        "NumPy provides functions for statistical analysis."
      ],
      "metadata": {
        "id": "GThd9mhtjao1"
      }
    },
    {
      "cell_type": "code",
      "source": [
        "arr = np.array([10, 20, 30, 40, 50])"
      ],
      "metadata": {
        "id": "WiAiRXTWjZ2F"
      },
      "execution_count": 76,
      "outputs": []
    },
    {
      "cell_type": "code",
      "source": [
        "print(\"Mean:\", np.mean(arr))\n",
        "print(\"Median:\", np.median(arr))\n",
        "print(\"Standard Deviation:\", np.std(arr))\n",
        "print(\"Minimum:\", np.min(arr))\n",
        "print(\"Maximum:\", np.max(arr))"
      ],
      "metadata": {
        "colab": {
          "base_uri": "https://localhost:8080/"
        },
        "id": "1zzOab4Pjlfp",
        "outputId": "5c523aeb-96b9-4645-bfdd-45dbfc771932"
      },
      "execution_count": 77,
      "outputs": [
        {
          "output_type": "stream",
          "name": "stdout",
          "text": [
            "Mean: 30.0\n",
            "Median: 30.0\n",
            "Standard Deviation: 14.142135623730951\n",
            "Minimum: 10\n",
            "Maximum: 50\n"
          ]
        }
      ]
    },
    {
      "cell_type": "markdown",
      "source": [
        "### **8.7 Reshaping and Slicing**\n",
        "You can reshape and extract parts of an array."
      ],
      "metadata": {
        "id": "uF1x6ROejoWa"
      }
    },
    {
      "cell_type": "code",
      "source": [
        "arr = np.arange(1, 10)\n",
        "reshaped_arr = arr.reshape(3, 3)\n",
        "print(\"Reshaped Array:\\n\", reshaped_arr)"
      ],
      "metadata": {
        "colab": {
          "base_uri": "https://localhost:8080/"
        },
        "id": "QpwqksFUjnxF",
        "outputId": "4f410bfd-beb2-473f-ed47-feb415dba87f"
      },
      "execution_count": 78,
      "outputs": [
        {
          "output_type": "stream",
          "name": "stdout",
          "text": [
            "Reshaped Array:\n",
            " [[1 2 3]\n",
            " [4 5 6]\n",
            " [7 8 9]]\n"
          ]
        }
      ]
    },
    {
      "cell_type": "code",
      "source": [
        "# Slicing\n",
        "print(\"First row:\", reshaped_arr[0])  # First row\n",
        "print(\"First column:\", reshaped_arr[:, 0])  # First column\n",
        "print(\"Element at (2,2):\", reshaped_arr[1, 1])  # Row 2, Column 2"
      ],
      "metadata": {
        "colab": {
          "base_uri": "https://localhost:8080/"
        },
        "id": "-YC0O3GBjrpe",
        "outputId": "6f7abd30-8fbc-4294-fa4c-f7adc3496fd2"
      },
      "execution_count": 79,
      "outputs": [
        {
          "output_type": "stream",
          "name": "stdout",
          "text": [
            "First row: [1 2 3]\n",
            "First column: [1 4 7]\n",
            "Element at (2,2): 5\n"
          ]
        }
      ]
    },
    {
      "cell_type": "markdown",
      "source": [
        "## **Topic 8: Python Libraries & Frameworks - Pandas (DataFrames & Series)**  \n",
        "\n",
        "Pandas is a powerful Python library used for data analysis and manipulation. It provides two main data structures:  \n",
        "\n",
        "- **Series**: A one-dimensional labeled array.  \n",
        "- **DataFrame**: A two-dimensional table with labeled axes (rows and columns).  \n",
        "\n",
        "---\n",
        "\n",
        "### **8.1 Installing and Importing Pandas**  \n",
        "Before using Pandas, install it using:  \n",
        "```bash\n",
        "pip install pandas\n",
        "```  \n",
        "Then, import it in Python:  \n"
      ],
      "metadata": {
        "id": "LMSd7m8xkPKd"
      }
    },
    {
      "cell_type": "code",
      "source": [
        "import pandas as pd"
      ],
      "metadata": {
        "id": "gd4wFCpyjv4f"
      },
      "execution_count": 80,
      "outputs": []
    },
    {
      "cell_type": "markdown",
      "source": [
        "## **8.2 Pandas Series**\n",
        "A `Series` is a one-dimensional array-like object containing a sequence of values and an associated array of labels (index).\n",
        "\n",
        "### **Creating a Pandas Series**\n"
      ],
      "metadata": {
        "id": "bad7EEZUkbyd"
      }
    },
    {
      "cell_type": "code",
      "source": [
        "import pandas as pd"
      ],
      "metadata": {
        "id": "c0mQp5YtkkKk"
      },
      "execution_count": 81,
      "outputs": []
    },
    {
      "cell_type": "code",
      "source": [
        "# Creating a Series from a list\n",
        "data = [10, 20, 30, 40, 50]\n",
        "series = pd.Series(data)\n",
        "print(series)"
      ],
      "metadata": {
        "colab": {
          "base_uri": "https://localhost:8080/"
        },
        "id": "CsZ4vVSokbRe",
        "outputId": "27e6791f-0dfe-44d1-ad36-9f997f1f27d3"
      },
      "execution_count": 82,
      "outputs": [
        {
          "output_type": "stream",
          "name": "stdout",
          "text": [
            "0    10\n",
            "1    20\n",
            "2    30\n",
            "3    40\n",
            "4    50\n",
            "dtype: int64\n"
          ]
        }
      ]
    },
    {
      "cell_type": "code",
      "source": [
        "# Customizing index labels\n",
        "series_custom_index = pd.Series(data, index=['A', 'B', 'C', 'D', 'E'])\n",
        "print(series_custom_index)"
      ],
      "metadata": {
        "colab": {
          "base_uri": "https://localhost:8080/"
        },
        "id": "xD8IUXZqknrh",
        "outputId": "c9c2f6ca-5091-493d-8bd7-c49907a213f7"
      },
      "execution_count": 83,
      "outputs": [
        {
          "output_type": "stream",
          "name": "stdout",
          "text": [
            "A    10\n",
            "B    20\n",
            "C    30\n",
            "D    40\n",
            "E    50\n",
            "dtype: int64\n"
          ]
        }
      ]
    },
    {
      "cell_type": "markdown",
      "source": [
        "### **Series Operations**"
      ],
      "metadata": {
        "id": "D7Vjj9rqks4E"
      }
    },
    {
      "cell_type": "code",
      "source": [
        "print(\"Values:\", series.values)  # Get values\n",
        "print(\"Index:\", series.index)    # Get index\n",
        "print(\"Mean:\", series.mean())    # Calculate mean\n",
        "print(\"Max:\", series.max())      # Get maximum value"
      ],
      "metadata": {
        "colab": {
          "base_uri": "https://localhost:8080/"
        },
        "id": "IQchx8HCkrI_",
        "outputId": "5ee35292-6ab7-436c-f659-4933b233dfc5"
      },
      "execution_count": 85,
      "outputs": [
        {
          "output_type": "stream",
          "name": "stdout",
          "text": [
            "Values: [10 20 30 40 50]\n",
            "Index: RangeIndex(start=0, stop=5, step=1)\n",
            "Mean: 30.0\n",
            "Max: 50\n"
          ]
        }
      ]
    },
    {
      "cell_type": "markdown",
      "source": [
        "## **8.3 Pandas DataFrame**\n",
        "A `DataFrame` is a two-dimensional data structure similar to an Excel spreadsheet or SQL table.\n",
        "\n",
        "### **Creating a Pandas DataFrame**\n"
      ],
      "metadata": {
        "id": "n_RBNKr2kynk"
      }
    },
    {
      "cell_type": "code",
      "source": [
        "import pandas as pd"
      ],
      "metadata": {
        "id": "tZQV4pXLkxdw"
      },
      "execution_count": 87,
      "outputs": []
    },
    {
      "cell_type": "code",
      "source": [
        "# Creating a DataFrame from a dictionary\n",
        "data = {\n",
        "    'Name': ['Alice', 'Bob', 'Charlie'],\n",
        "    'Age': [25, 30, 35],\n",
        "    'Salary': [50000, 60000, 70000]\n",
        "}\n",
        "df = pd.DataFrame(data)\n",
        "print(df)"
      ],
      "metadata": {
        "colab": {
          "base_uri": "https://localhost:8080/"
        },
        "id": "gIviOZDvk2cs",
        "outputId": "ac378085-5956-4fd2-c522-1720a95cbef7"
      },
      "execution_count": 88,
      "outputs": [
        {
          "output_type": "stream",
          "name": "stdout",
          "text": [
            "      Name  Age  Salary\n",
            "0    Alice   25   50000\n",
            "1      Bob   30   60000\n",
            "2  Charlie   35   70000\n"
          ]
        }
      ]
    },
    {
      "cell_type": "markdown",
      "source": [
        "### **Reading and Writing DataFrames**"
      ],
      "metadata": {
        "id": "DAS0IjCBk6ZC"
      }
    },
    {
      "cell_type": "code",
      "source": [
        "# Reading a CSV file\n",
        "df = pd.read_csv(\"data.csv\")\n",
        "print(df.head())  # Display first 5 rows"
      ],
      "metadata": {
        "id": "vQSbrv2dk5aa"
      },
      "execution_count": null,
      "outputs": []
    },
    {
      "cell_type": "code",
      "source": [
        "# Writing to a CSV file\n",
        "df.to_csv(\"output.csv\", index=False)"
      ],
      "metadata": {
        "id": "qpelUa7kk_7g"
      },
      "execution_count": null,
      "outputs": []
    },
    {
      "cell_type": "markdown",
      "source": [
        "## **8.4 Accessing Data in a DataFrame**"
      ],
      "metadata": {
        "id": "rlNjcQQblCps"
      }
    },
    {
      "cell_type": "code",
      "source": [
        "# Access a column\n",
        "print(df[\"Name\"])"
      ],
      "metadata": {
        "id": "rSPIhcQplEFz"
      },
      "execution_count": null,
      "outputs": []
    },
    {
      "cell_type": "code",
      "source": [
        "# Access multiple columns\n",
        "print(df[['Name', 'Salary']])"
      ],
      "metadata": {
        "id": "SCVoHKCElHGq"
      },
      "execution_count": null,
      "outputs": []
    },
    {
      "cell_type": "code",
      "source": [
        "# Access a specific row\n",
        "print(df.iloc[1])  # Row by index\n",
        "print(df.loc[0])   # Row by label"
      ],
      "metadata": {
        "id": "TilYTEV_lIiY"
      },
      "execution_count": null,
      "outputs": []
    },
    {
      "cell_type": "code",
      "source": [
        "# Access a specific value\n",
        "print(df.loc[1, 'Salary'])  # Value at row 1, column \"Salary\""
      ],
      "metadata": {
        "id": "x58W2EQklJ5K"
      },
      "execution_count": null,
      "outputs": []
    },
    {
      "cell_type": "markdown",
      "source": [
        "## **8.5 Data Cleaning and Transformation**"
      ],
      "metadata": {
        "id": "f5DlSgiHlMnT"
      }
    },
    {
      "cell_type": "code",
      "source": [
        "# Handling missing values\n",
        "df.fillna(0, inplace=True)  # Replace NaN with 0\n",
        "df.dropna(inplace=True)      # Remove rows with NaN values"
      ],
      "metadata": {
        "id": "I8hkJLTWlOAS"
      },
      "execution_count": null,
      "outputs": []
    },
    {
      "cell_type": "code",
      "source": [
        "# Changing data types\n",
        "df['Age'] = df['Age'].astype(float)"
      ],
      "metadata": {
        "id": "HjJPPrcxlP_-"
      },
      "execution_count": null,
      "outputs": []
    },
    {
      "cell_type": "code",
      "source": [
        "# Adding a new column\n",
        "df['Bonus'] = df['Salary'] * 0.10\n",
        "print(df)"
      ],
      "metadata": {
        "id": "NfLNRqi-lRU0"
      },
      "execution_count": null,
      "outputs": []
    },
    {
      "cell_type": "markdown",
      "source": [
        "## **8.6 Sorting and Filtering Data**"
      ],
      "metadata": {
        "id": "OD8FUUxFlT1r"
      }
    },
    {
      "cell_type": "code",
      "source": [
        "# Sorting by a column\n",
        "df_sorted = df.sort_values(by=\"Salary\", ascending=False)\n",
        "print(df_sorted)"
      ],
      "metadata": {
        "id": "6tY-sd7MlU72"
      },
      "execution_count": null,
      "outputs": []
    },
    {
      "cell_type": "code",
      "source": [
        "# Filtering data\n",
        "df_filtered = df[df[\"Age\"] > 28]  # Select employees older than 28\n",
        "print(df_filtered)"
      ],
      "metadata": {
        "id": "aKyDtmDolXAA"
      },
      "execution_count": null,
      "outputs": []
    },
    {
      "cell_type": "markdown",
      "source": [
        "## **8.7 Grouping and Aggregation**\n"
      ],
      "metadata": {
        "id": "_is542xTlbXj"
      }
    },
    {
      "cell_type": "code",
      "source": [
        "# Grouping by a column\n",
        "grouped = df.groupby(\"Age\")[\"Salary\"].mean()\n",
        "print(grouped)"
      ],
      "metadata": {
        "id": "drg49B7YlZRP"
      },
      "execution_count": null,
      "outputs": []
    },
    {
      "cell_type": "code",
      "source": [
        "# Aggregation functions\n",
        "print(df[\"Salary\"].sum())  # Total salary\n",
        "print(df[\"Salary\"].mean())  # Average salary\n",
        "print(df[\"Salary\"].max())  # Highest salary"
      ],
      "metadata": {
        "id": "VCWt7vJIlf36"
      },
      "execution_count": null,
      "outputs": []
    },
    {
      "cell_type": "markdown",
      "source": [
        "## **Topic 8: Python Libraries & Frameworks - Matplotlib & Seaborn (Data Visualization)**  \n",
        "\n",
        "**Matplotlib** and **Seaborn** are powerful Python libraries used for data visualization.  \n",
        "\n",
        "- **Matplotlib**: Low-level, flexible visualization library.  \n",
        "- **Seaborn**: High-level library built on Matplotlib with better aesthetics and statistical functions.  \n",
        "\n",
        "---\n",
        "\n",
        "## **8.1 Installing and Importing Libraries**  \n",
        "Before using these libraries, install them using:  \n",
        "```bash\n",
        "pip install matplotlib seaborn\n",
        "```  \n",
        "Then, import them in Python:  \n"
      ],
      "metadata": {
        "id": "iOhnTXBYlwmV"
      }
    },
    {
      "cell_type": "code",
      "source": [
        "import matplotlib.pyplot as plt\n",
        "import seaborn as sns"
      ],
      "metadata": {
        "id": "eE8_vcE0lm2Z"
      },
      "execution_count": 89,
      "outputs": []
    },
    {
      "cell_type": "markdown",
      "source": [
        "## **8.2 Matplotlib Basics**\n",
        "Matplotlib allows creating various types of plots.\n",
        "\n",
        "### **Line Plot**\n"
      ],
      "metadata": {
        "id": "LACPhul0mICF"
      }
    },
    {
      "cell_type": "code",
      "source": [
        "import matplotlib.pyplot as plt"
      ],
      "metadata": {
        "id": "UkfvtuOomHKO"
      },
      "execution_count": 90,
      "outputs": []
    },
    {
      "cell_type": "code",
      "source": [
        "# Data\n",
        "x = [1, 2, 3, 4, 5]\n",
        "y = [10, 20, 25, 30, 50]"
      ],
      "metadata": {
        "id": "xfcZZW1-mMqI"
      },
      "execution_count": 117,
      "outputs": []
    },
    {
      "cell_type": "code",
      "source": [
        "# Creating a line plot\n",
        "plt.plot(x, y, marker='o', linestyle='-', color='b', label=\"Growth\")\n",
        "# Adding labels and title\n",
        "plt.xlabel(\"X-axis\")\n",
        "plt.ylabel(\"Y-axis\")\n",
        "plt.title(\"Line Plot Example\")\n",
        "plt.legend()\n",
        "plt.grid(True)\n",
        "# Display the plot\n",
        "plt.show()"
      ],
      "metadata": {
        "colab": {
          "base_uri": "https://localhost:8080/",
          "height": 472
        },
        "id": "tv8bnzxamODG",
        "outputId": "54e52bb6-1f43-4518-a368-8eee9e49a10d"
      },
      "execution_count": 118,
      "outputs": [
        {
          "output_type": "display_data",
          "data": {
            "text/plain": [
              "<Figure size 640x480 with 1 Axes>"
            ],
            "image/png": "[encoded data removed]"
          },
          "metadata": {}
        }
      ]
    },
    {
      "cell_type": "markdown",
      "source": [
        "### **8.3 Bar Chart**"
      ],
      "metadata": {
        "id": "sAKXOW3nmWCb"
      }
    },
    {
      "cell_type": "code",
      "source": [
        "# Data\n",
        "categories = ['A', 'B', 'C', 'D']\n",
        "values = [5, 7, 3, 8]"
      ],
      "metadata": {
        "id": "n15prY8-mRK4"
      },
      "execution_count": 119,
      "outputs": []
    },
    {
      "cell_type": "code",
      "source": [
        "# Creating a bar chart\n",
        "plt.bar(categories, values, color='skyblue')\n",
        "# Adding labels\n",
        "plt.xlabel(\"Categories\")\n",
        "plt.ylabel(\"Values\")\n",
        "plt.title(\"Bar Chart Example\")\n",
        "\n",
        "# Display the plot\n",
        "plt.show()"
      ],
      "metadata": {
        "colab": {
          "base_uri": "https://localhost:8080/",
          "height": 472
        },
        "id": "5thdU2WumSf9",
        "outputId": "66cc3b3c-ba2d-4ae9-dee7-0c759344c12b"
      },
      "execution_count": 120,
      "outputs": [
        {
          "output_type": "display_data",
          "data": {
            "text/plain": [
              "<Figure size 640x480 with 1 Axes>"
            ],
            "image/png": "[encoded data removed]"
          },
          "metadata": {}
        }
      ]
    },
    {
      "cell_type": "markdown",
      "source": [
        "### **8.4 Scatter Plot**"
      ],
      "metadata": {
        "id": "EDInFY9FmtKD"
      }
    },
    {
      "cell_type": "code",
      "source": [
        "import numpy as np"
      ],
      "metadata": {
        "id": "ddOdHJ0gmpba"
      },
      "execution_count": 121,
      "outputs": []
    },
    {
      "cell_type": "code",
      "source": [
        "# Data\n",
        "x = np.random.rand(50)\n",
        "y = np.random.rand(50)"
      ],
      "metadata": {
        "id": "b-zcTclzmulX"
      },
      "execution_count": 122,
      "outputs": []
    },
    {
      "cell_type": "code",
      "source": [
        "# Creating a scatter plot\n",
        "plt.scatter(x, y, color='red', marker='x')\n",
        "# Adding labels\n",
        "plt.xlabel(\"X Values\")\n",
        "plt.ylabel(\"Y Values\")\n",
        "plt.title(\"Scatter Plot Example\")\n",
        "# Display the plot\n",
        "plt.show()"
      ],
      "metadata": {
        "colab": {
          "base_uri": "https://localhost:8080/",
          "height": 472
        },
        "id": "XVNgDCNImv6Y",
        "outputId": "03a177f0-bdb0-49a0-dbc0-eaa60a80126b"
      },
      "execution_count": 123,
      "outputs": [
        {
          "output_type": "display_data",
          "data": {
            "text/plain": [
              "<Figure size 640x480 with 1 Axes>"
            ],
            "image/png": "[encoded data removed]"
          },
          "metadata": {}
        }
      ]
    },
    {
      "cell_type": "markdown",
      "source": [
        "## **8.5 Seaborn Basics**\n",
        "Seaborn provides better aesthetics and built-in statistical visualization functions.\n",
        "\n",
        "### **Histogram (Distribution Plot)**"
      ],
      "metadata": {
        "id": "UlFO8m4hm1ic"
      }
    },
    {
      "cell_type": "code",
      "source": [
        "import seaborn as sns\n",
        "import numpy as np"
      ],
      "metadata": {
        "id": "-EOAwbCmmz3i"
      },
      "execution_count": 124,
      "outputs": []
    },
    {
      "cell_type": "code",
      "source": [
        "# Generating random data\n",
        "data = np.random.randn(1000)"
      ],
      "metadata": {
        "id": "HCTOgbvim7om"
      },
      "execution_count": 125,
      "outputs": []
    },
    {
      "cell_type": "code",
      "source": [
        "# Creating a histogram\n",
        "sns.histplot(data, kde=True, color=\"purple\")\n",
        "# Adding title\n",
        "plt.title(\"Histogram with KDE\")\n",
        "plt.show()"
      ],
      "metadata": {
        "colab": {
          "base_uri": "https://localhost:8080/",
          "height": 452
        },
        "id": "g7eTYJQjm89L",
        "outputId": "1bc8fd86-9e6b-43b4-a39e-d77c39548692"
      },
      "execution_count": 126,
      "outputs": [
        {
          "output_type": "display_data",
          "data": {
            "text/plain": [
              "<Figure size 640x480 with 1 Axes>"
            ],
            "image/png": "[encoded data removed]"
          },
          "metadata": {}
        }
      ]
    },
    {
      "cell_type": "markdown",
      "source": [
        "### **8.6 Box Plot (Detecting Outliers)**"
      ],
      "metadata": {
        "id": "eXLaKRzmnB-p"
      }
    },
    {
      "cell_type": "code",
      "source": [
        "# Sample data\n",
        "data = {'Category': ['A', 'B', 'A', 'B', 'A', 'B'],\n",
        "        'Values': [10, 20, 15, 25, 14, 22]}"
      ],
      "metadata": {
        "id": "dDDAp64GnAe9"
      },
      "execution_count": 127,
      "outputs": []
    },
    {
      "cell_type": "code",
      "source": [
        "# Creating a box plot\n",
        "sns.boxplot(x=\"Category\", y=\"Values\", data=data, palette=\"coolwarm\")\n",
        "# Adding title\n",
        "plt.title(\"Box Plot Example\")\n",
        "plt.show()"
      ],
      "metadata": {
        "colab": {
          "base_uri": "https://localhost:8080/",
          "height": 579
        },
        "id": "YYjj1RYInF7N",
        "outputId": "cea97426-f690-4b35-8f75-33ae32c485e1"
      },
      "execution_count": 128,
      "outputs": [
        {
          "output_type": "stream",
          "name": "stderr",
          "text": [
            "<ipython-input-128-f7b1aa5aa529>:2: FutureWarning: \n",
            "\n",
            "Passing `palette` without assigning `hue` is deprecated and will be removed in v0.14.0. Assign the `x` variable to `hue` and set `legend=False` for the same effect.\n",
            "\n",
            "  sns.boxplot(x=\"Category\", y=\"Values\", data=data, palette=\"coolwarm\")\n"
          ]
        },
        {
          "output_type": "display_data",
          "data": {
            "text/plain": [
              "<Figure size 640x480 with 1 Axes>"
            ],
            "image/png": "[encoded data removed]"
          },
          "metadata": {}
        }
      ]
    },
    {
      "cell_type": "markdown",
      "source": [
        "### **8.7 Heatmap (Correlation Matrix)**\n"
      ],
      "metadata": {
        "id": "B7caEJdInMbI"
      }
    },
    {
      "cell_type": "code",
      "source": [
        "# Sample dataset\n",
        "data = np.random.rand(5, 5)\n",
        "\n",
        "# Creating a heatmap\n",
        "sns.heatmap(data, annot=True, cmap=\"YlGnBu\")\n",
        "\n",
        "# Adding title\n",
        "plt.title(\"Heatmap Example\")\n",
        "plt.show()"
      ],
      "metadata": {
        "colab": {
          "base_uri": "https://localhost:8080/",
          "height": 452
        },
        "id": "sRvYCdcZnI2J",
        "outputId": "2140aa97-73f6-444b-9a56-40015cbb9019"
      },
      "execution_count": 129,
      "outputs": [
        {
          "output_type": "display_data",
          "data": {
            "text/plain": [
              "<Figure size 640x480 with 2 Axes>"
            ],
            "image/png": "[encoded data removed]"
          },
          "metadata": {}
        }
      ]
    },
    {
      "cell_type": "markdown",
      "source": [
        "## **Topic 8: Python Libraries & Frameworks - Requests (HTTP Requests)**  \n",
        "\n",
        "The `requests` library in Python is used to send HTTP requests to interact with web services and APIs. It is commonly used for fetching web pages, accessing REST APIs, and automating web-based tasks.  \n",
        "\n",
        "---\n",
        "\n",
        "## **8.1 Installing and Importing Requests**  \n",
        "Before using the `requests` library, install it using:  \n",
        "```bash\n",
        "pip install requests\n",
        "```  \n",
        "Then, import it in Python:  \n"
      ],
      "metadata": {
        "id": "jYQVjLQan4U5"
      }
    },
    {
      "cell_type": "code",
      "source": [
        "import requests"
      ],
      "metadata": {
        "id": "amktbPoAnVfS"
      },
      "execution_count": 130,
      "outputs": []
    },
    {
      "cell_type": "markdown",
      "source": [
        "## **8.2 Making a Simple GET Request**  \n",
        "The `GET` request is used to retrieve data from a server.  "
      ],
      "metadata": {
        "id": "qL8pgd6VoJ5H"
      }
    },
    {
      "cell_type": "code",
      "source": [
        "import requests"
      ],
      "metadata": {
        "id": "iMxnGPw_oIw-"
      },
      "execution_count": 131,
      "outputs": []
    },
    {
      "cell_type": "code",
      "source": [
        "# Send a GET request to an example API\n",
        "response = requests.get(\"https://jsonplaceholder.typicode.com/posts/1\")"
      ],
      "metadata": {
        "id": "c-Azf3IPoOan"
      },
      "execution_count": 132,
      "outputs": []
    },
    {
      "cell_type": "code",
      "source": [
        "# Print the response data\n",
        "print(\"Status Code:\", response.status_code)\n",
        "print(\"Response JSON:\", response.json())"
      ],
      "metadata": {
        "colab": {
          "base_uri": "https://localhost:8080/"
        },
        "id": "kJS6Vs7LoQYU",
        "outputId": "c1155796-faa1-4a90-d6ad-dd81d5ed9a44"
      },
      "execution_count": 133,
      "outputs": [
        {
          "output_type": "stream",
          "name": "stdout",
          "text": [
            "Status Code: 200\n",
            "Response JSON: {'userId': 1, 'id': 1, 'title': 'sunt aut facere repellat provident occaecati excepturi optio reprehenderit', 'body': 'quia et suscipit\\nsuscipit recusandae consequuntur expedita et cum\\nreprehenderit molestiae ut ut quas totam\\nnostrum rerum est autem sunt rem eveniet architecto'}\n"
          ]
        }
      ]
    },
    {
      "cell_type": "markdown",
      "source": [
        "### **Explanation:**  \n",
        "- `requests.get(url)`: Sends an HTTP GET request to the given URL.  \n",
        "- `.status_code`: Returns the status code (200 means success).  \n",
        "- `.json()`: Converts the response into a Python dictionary.  \n",
        "\n",
        "---\n",
        "\n",
        "## **8.3 Sending a POST Request (Submitting Data)**\n",
        "A `POST` request is used to send data to a server, typically to create new resources."
      ],
      "metadata": {
        "id": "wncwk94SoS_N"
      }
    },
    {
      "cell_type": "code",
      "source": [
        "# Data to send in the POST request\n",
        "data = {\n",
        "    \"title\": \"New Post\",\n",
        "    \"body\": \"This is a test post.\",\n",
        "    \"userId\": 1\n",
        "}"
      ],
      "metadata": {
        "id": "Sp3LrYfDoU8Y"
      },
      "execution_count": 134,
      "outputs": []
    },
    {
      "cell_type": "code",
      "source": [
        "# Sending the POST request\n",
        "response = requests.post(\"https://jsonplaceholder.typicode.com/posts\", json=data)"
      ],
      "metadata": {
        "id": "OF0QhhkLoYpL"
      },
      "execution_count": 135,
      "outputs": []
    },
    {
      "cell_type": "code",
      "source": [
        "# Print response\n",
        "print(\"Status Code:\", response.status_code)\n",
        "print(\"Response JSON:\", response.json())"
      ],
      "metadata": {
        "colab": {
          "base_uri": "https://localhost:8080/"
        },
        "id": "qRiSpiudoaTN",
        "outputId": "b2858889-3352-4c3a-fb7e-ad99a8ce9a71"
      },
      "execution_count": 136,
      "outputs": [
        {
          "output_type": "stream",
          "name": "stdout",
          "text": [
            "Status Code: 201\n",
            "Response JSON: {'title': 'New Post', 'body': 'This is a test post.', 'userId': 1, 'id': 101}\n"
          ]
        }
      ]
    },
    {
      "cell_type": "markdown",
      "source": [
        "### **Explanation:**  \n",
        "- `requests.post(url, json=data)`: Sends a POST request with JSON data.  \n",
        "- Returns a response with the created resource.\n",
        "\n",
        "---\n",
        "\n",
        "## **8.4 Sending a PUT Request (Updating Data)**\n",
        "A `PUT` request updates an existing resource."
      ],
      "metadata": {
        "id": "WMixnfAyodUi"
      }
    },
    {
      "cell_type": "code",
      "source": [
        "update_data = {\n",
        "    \"title\": \"Updated Title\",\n",
        "    \"body\": \"Updated content.\",\n",
        "    \"userId\": 1\n",
        "}"
      ],
      "metadata": {
        "id": "7QXrXMP4oc2f"
      },
      "execution_count": 137,
      "outputs": []
    },
    {
      "cell_type": "code",
      "source": [
        "response = requests.put(\"https://jsonplaceholder.typicode.com/posts/1\", json=update_data)"
      ],
      "metadata": {
        "id": "yzKe_-Z0ohV9"
      },
      "execution_count": 138,
      "outputs": []
    },
    {
      "cell_type": "code",
      "source": [
        "print(\"Status Code:\", response.status_code)\n",
        "print(\"Response JSON:\", response.json())"
      ],
      "metadata": {
        "colab": {
          "base_uri": "https://localhost:8080/"
        },
        "id": "2y5RiLZwokLb",
        "outputId": "8145a819-b631-4af7-f3c2-be286ce63c45"
      },
      "execution_count": 139,
      "outputs": [
        {
          "output_type": "stream",
          "name": "stdout",
          "text": [
            "Status Code: 200\n",
            "Response JSON: {'title': 'Updated Title', 'body': 'Updated content.', 'userId': 1, 'id': 1}\n"
          ]
        }
      ]
    },
    {
      "cell_type": "markdown",
      "source": [
        "- `requests.put(url, json=data)`: Sends a PUT request to update data.\n",
        "\n",
        "---\n",
        "\n",
        "## **8.5 Sending a DELETE Request (Deleting Data)**\n",
        "A `DELETE` request removes a resource."
      ],
      "metadata": {
        "id": "IyiSDC0AooMd"
      }
    },
    {
      "cell_type": "code",
      "source": [
        "response = requests.delete(\"https://jsonplaceholder.typicode.com/posts/1\")"
      ],
      "metadata": {
        "id": "LOBS3cElonnS"
      },
      "execution_count": 140,
      "outputs": []
    },
    {
      "cell_type": "code",
      "source": [
        "print(\"Status Code:\", response.status_code)"
      ],
      "metadata": {
        "colab": {
          "base_uri": "https://localhost:8080/"
        },
        "id": "ElAMGSE2o04r",
        "outputId": "a7e36228-bcf5-4c3a-9e2c-fb870d3ba445"
      },
      "execution_count": 141,
      "outputs": [
        {
          "output_type": "stream",
          "name": "stdout",
          "text": [
            "Status Code: 200\n"
          ]
        }
      ]
    },
    {
      "cell_type": "markdown",
      "source": [
        "- `requests.delete(url)`: Deletes the specified resource.\n",
        "\n",
        "---\n",
        "\n",
        "## **8.6 Handling Query Parameters in GET Requests**\n",
        "Some APIs require query parameters to filter results.\n"
      ],
      "metadata": {
        "id": "iEc13Xp1o3D4"
      }
    },
    {
      "cell_type": "code",
      "source": [
        "params = {\"userId\": 1}\n",
        "\n",
        "response = requests.get(\"https://jsonplaceholder.typicode.com/posts\", params=params)"
      ],
      "metadata": {
        "id": "Sn0ShAYMo2bV"
      },
      "execution_count": 142,
      "outputs": []
    },
    {
      "cell_type": "code",
      "source": [
        "print(\"Filtered Results:\", response.json())"
      ],
      "metadata": {
        "colab": {
          "base_uri": "https://localhost:8080/"
        },
        "id": "pYTS5pOfo9pj",
        "outputId": "df5a2d00-312d-423e-aafa-ccb0de08ab10"
      },
      "execution_count": 143,
      "outputs": [
        {
          "output_type": "stream",
          "name": "stdout",
          "text": [
            "Filtered Results: [{'userId': 1, 'id': 1, 'title': 'sunt aut facere repellat provident occaecati excepturi optio reprehenderit', 'body': 'quia et suscipit\\nsuscipit recusandae consequuntur expedita et cum\\nreprehenderit molestiae ut ut quas totam\\nnostrum rerum est autem sunt rem eveniet architecto'}, {'userId': 1, 'id': 2, 'title': 'qui est esse', 'body': 'est rerum tempore vitae\\nsequi sint nihil reprehenderit dolor beatae ea dolores neque\\nfugiat blanditiis voluptate porro vel nihil molestiae ut reiciendis\\nqui aperiam non debitis possimus qui neque nisi nulla'}, {'userId': 1, 'id': 3, 'title': 'ea molestias quasi exercitationem repellat qui ipsa sit aut', 'body': 'et iusto sed quo iure\\nvoluptatem occaecati omnis eligendi aut ad\\nvoluptatem doloribus vel accusantium quis pariatur\\nmolestiae porro eius odio et labore et velit aut'}, {'userId': 1, 'id': 4, 'title': 'eum et est occaecati', 'body': 'ullam et saepe reiciendis voluptatem adipisci\\nsit amet autem assumenda provident rerum culpa\\nquis hic commodi nesciunt rem tenetur doloremque ipsam iure\\nquis sunt voluptatem rerum illo velit'}, {'userId': 1, 'id': 5, 'title': 'nesciunt quas odio', 'body': 'repudiandae veniam quaerat sunt sed\\nalias aut fugiat sit autem sed est\\nvoluptatem omnis possimus esse voluptatibus quis\\nest aut tenetur dolor neque'}, {'userId': 1, 'id': 6, 'title': 'dolorem eum magni eos aperiam quia', 'body': 'ut aspernatur corporis harum nihil quis provident sequi\\nmollitia nobis aliquid molestiae\\nperspiciatis et ea nemo ab reprehenderit accusantium quas\\nvoluptate dolores velit et doloremque molestiae'}, {'userId': 1, 'id': 7, 'title': 'magnam facilis autem', 'body': 'dolore placeat quibusdam ea quo vitae\\nmagni quis enim qui quis quo nemo aut saepe\\nquidem repellat excepturi ut quia\\nsunt ut sequi eos ea sed quas'}, {'userId': 1, 'id': 8, 'title': 'dolorem dolore est ipsam', 'body': 'dignissimos aperiam dolorem qui eum\\nfacilis quibusdam animi sint suscipit qui sint possimus cum\\nquaerat magni maiores excepturi\\nipsam ut commodi dolor voluptatum modi aut vitae'}, {'userId': 1, 'id': 9, 'title': 'nesciunt iure omnis dolorem tempora et accusantium', 'body': 'consectetur animi nesciunt iure dolore\\nenim quia ad\\nveniam autem ut quam aut nobis\\net est aut quod aut provident voluptas autem voluptas'}, {'userId': 1, 'id': 10, 'title': 'optio molestias id quia eum', 'body': 'quo et expedita modi cum officia vel magni\\ndoloribus qui repudiandae\\nvero nisi sit\\nquos veniam quod sed accusamus veritatis error'}]\n"
          ]
        }
      ]
    },
    {
      "cell_type": "markdown",
      "source": [
        "- `params={\"key\": \"value\"}`: Passes parameters in the URL (`?userId=1`).\n",
        "\n",
        "---\n",
        "\n",
        "## **8.7 Handling Request Headers**\n",
        "Some APIs require headers for authentication or content type."
      ],
      "metadata": {
        "id": "qYg_4aPspAVU"
      }
    },
    {
      "cell_type": "code",
      "source": [
        "headers = {\"User-Agent\": \"my-app\"}\n",
        "\n",
        "response = requests.get(\"https://jsonplaceholder.typicode.com/posts/1\", headers=headers)"
      ],
      "metadata": {
        "id": "thOwZUDqo_VI"
      },
      "execution_count": 144,
      "outputs": []
    },
    {
      "cell_type": "code",
      "source": [
        "print(\"Response:\", response.json())"
      ],
      "metadata": {
        "colab": {
          "base_uri": "https://localhost:8080/"
        },
        "id": "8_neCCrtpE2K",
        "outputId": "13c06198-d407-4452-cdfa-485ae64f855d"
      },
      "execution_count": 145,
      "outputs": [
        {
          "output_type": "stream",
          "name": "stdout",
          "text": [
            "Response: {'userId': 1, 'id': 1, 'title': 'sunt aut facere repellat provident occaecati excepturi optio reprehenderit', 'body': 'quia et suscipit\\nsuscipit recusandae consequuntur expedita et cum\\nreprehenderit molestiae ut ut quas totam\\nnostrum rerum est autem sunt rem eveniet architecto'}\n"
          ]
        }
      ]
    },
    {
      "cell_type": "markdown",
      "source": [
        "- `headers={\"User-Agent\": \"my-app\"}`: Sends a custom header.\n",
        "\n",
        "---\n",
        "\n",
        "## **8.8 Handling Timeouts and Errors**\n",
        "To avoid long wait times, use timeouts."
      ],
      "metadata": {
        "id": "EfMX97pdpHcu"
      }
    },
    {
      "cell_type": "code",
      "source": [
        "try:\n",
        "    response = requests.get(\"https://jsonplaceholder.typicode.com/posts/1\", timeout=5)\n",
        "    response.raise_for_status()  # Raises error if status is not 200\n",
        "    print(response.json())\n",
        "except requests.exceptions.Timeout:\n",
        "    print(\"Request timed out\")\n",
        "except requests.exceptions.HTTPError as err:\n",
        "    print(\"HTTP Error:\", err)"
      ],
      "metadata": {
        "colab": {
          "base_uri": "https://localhost:8080/"
        },
        "id": "wHj2BB_ppGsY",
        "outputId": "71321ca8-d6fd-4fdf-a09d-ab4c80232db3"
      },
      "execution_count": 146,
      "outputs": [
        {
          "output_type": "stream",
          "name": "stdout",
          "text": [
            "{'userId': 1, 'id': 1, 'title': 'sunt aut facere repellat provident occaecati excepturi optio reprehenderit', 'body': 'quia et suscipit\\nsuscipit recusandae consequuntur expedita et cum\\nreprehenderit molestiae ut ut quas totam\\nnostrum rerum est autem sunt rem eveniet architecto'}\n"
          ]
        }
      ]
    },
    {
      "cell_type": "markdown",
      "source": [
        "- `timeout=5`: Limits request time to 5 seconds.  \n",
        "- `.raise_for_status()`: Raises an error for failed requests."
      ],
      "metadata": {
        "id": "bptD7YmIpNe1"
      }
    },
    {
      "cell_type": "code",
      "source": [],
      "metadata": {
        "id": "T1SYMWEJpM-n"
      },
      "execution_count": null,
      "outputs": []
    }
  ]
}